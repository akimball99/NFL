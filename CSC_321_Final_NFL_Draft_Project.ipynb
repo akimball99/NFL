{
  "nbformat": 4,
  "nbformat_minor": 0,
  "metadata": {
    "colab": {
      "name": "CSC-321 Final NFL Draft Project.ipynb",
      "provenance": [],
      "collapsed_sections": []
    },
    "kernelspec": {
      "name": "python3",
      "display_name": "Python 3"
    },
    "language_info": {
      "name": "python"
    }
  },
  "cells": [
    {
      "cell_type": "code",
      "metadata": {
        "colab": {
          "resources": {
            "http://localhost:8080/nbextensions/google.colab/files.js": {
              "data": "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",
              "ok": true,
              "headers": [
                [
                  "content-type",
                  "application/javascript"
                ]
              ],
              "status": 200,
              "status_text": ""
            }
          },
          "base_uri": "https://localhost:8080/",
          "height": 72
        },
        "id": "GUqCwLc-uQ09",
        "outputId": "3abecfca-9d76-4bdf-edc5-6372445b6e74"
      },
      "source": [
        "import pandas as pd\n",
        "import missingno as msno\n",
        "import numpy as np\n",
        "from google.colab import files\n",
        "\n",
        "uploaded = files.upload()"
      ],
      "execution_count": null,
      "outputs": [
        {
          "output_type": "display_data",
          "data": {
            "text/html": [
              "\n",
              "     <input type=\"file\" id=\"files-0278a24b-5888-4592-8b9e-7728d8db2d82\" name=\"files[]\" multiple disabled\n",
              "        style=\"border:none\" />\n",
              "     <output id=\"result-0278a24b-5888-4592-8b9e-7728d8db2d82\">\n",
              "      Upload widget is only available when the cell has been executed in the\n",
              "      current browser session. Please rerun this cell to enable.\n",
              "      </output>\n",
              "      <script src=\"/nbextensions/google.colab/files.js\"></script> "
            ],
            "text/plain": [
              "<IPython.core.display.HTML object>"
            ]
          },
          "metadata": {
            "tags": []
          }
        },
        {
          "output_type": "stream",
          "text": [
            "Saving Final_NFL_Draft_Data_2000_2021.csv to Final_NFL_Draft_Data_2000_2021.csv\n"
          ],
          "name": "stdout"
        }
      ]
    },
    {
      "cell_type": "markdown",
      "metadata": {
        "id": "rjfGik5OMLFX"
      },
      "source": [
        "**Abstract:**\n",
        "By looking at NFL Draft Classes from 2000 to 2021, as well as each players NFL combine data, this expirement looked at the 2021 QB draft class. The goal was to predict where each of the 10 Rookie QBs would be drafted in the 2021 NFL Draft. The draft took place on the last weekend of April 2021, and these rookie QBs have not played one game in the NFL yet, but this experiment looked at predicting their value and where a team should have drafted them in the draft, which could then be compared to the actual results from a few weeks ago."
      ]
    },
    {
      "cell_type": "markdown",
      "metadata": {
        "id": "FMv4lwrVNs2u"
      },
      "source": [
        "**Introduction:**\n",
        "The NFL Draft took place in April 2021 and the goal of this experiment was to predict where each of the 10 rookie Quarterbacks would be selected in the draft. My dataset consists of NFL Draft stats from 2000 – 2021 as well as NFL Combine results. I wanted to know which stats are relevant as well as which combine drills are a better indicator than others. This is a regression problem, as it is predicting the rookie quarterbacks draft pick number, which would then be compared to the actual results from the draft this year. \n",
        "\n",
        "The reason why I want to predict the draft picks of the new rookie class and compare it to their actual draft picks is because I see a lot of potential with this class. Most of them have a lot of potential and I wanted to see who really is the next big thing. This can also be used to help NFL teams draft a quarterback in the future if they need one by looking at next years class' combine results that take place right before the draft in 2022.\n"
      ]
    },
    {
      "cell_type": "markdown",
      "metadata": {
        "id": "kDjyQUrxOz5Y"
      },
      "source": [
        "**Motivation/State of the Art:** The reason why I want to look at this dataset and predict the Quarterback draft picks is because I am a very big football fan, with high hopes for next year. This years Quarterback draft class was very strong with a lot of potential. I have tried to look past experiments done, however I have not seen any results for this years draft class. I did find one for the 2018 NFL draft, and it seemed to have a similar result, however there were more quarterbacks that year than this year. There are a lot of other projects that seem to look at Draft Kings and other fantasy football like apps. These websites are used by people who want to draft their own team and get points for how well they do in real life, which I honestly did not even think about, and I could be interested in exploring it in the future."
      ]
    },
    {
      "cell_type": "code",
      "metadata": {
        "id": "bWLE-MDvyi1o"
      },
      "source": [
        "df = pd.read_csv('Final_NFL_Draft_Data_2000_2021.csv')"
      ],
      "execution_count": null,
      "outputs": []
    },
    {
      "cell_type": "code",
      "metadata": {
        "id": "8bUpxKWySpEy",
        "colab": {
          "base_uri": "https://localhost:8080/",
          "height": 292
        },
        "outputId": "695d090b-a8c9-4f62-86cc-5735ab1f3a4c"
      },
      "source": [
        "df.head()"
      ],
      "execution_count": null,
      "outputs": [
        {
          "output_type": "execute_result",
          "data": {
            "text/html": [
              "<div>\n",
              "<style scoped>\n",
              "    .dataframe tbody tr th:only-of-type {\n",
              "        vertical-align: middle;\n",
              "    }\n",
              "\n",
              "    .dataframe tbody tr th {\n",
              "        vertical-align: top;\n",
              "    }\n",
              "\n",
              "    .dataframe thead th {\n",
              "        text-align: right;\n",
              "    }\n",
              "</style>\n",
              "<table border=\"1\" class=\"dataframe\">\n",
              "  <thead>\n",
              "    <tr style=\"text-align: right;\">\n",
              "      <th></th>\n",
              "      <th>Rnd</th>\n",
              "      <th>Pick</th>\n",
              "      <th>Year</th>\n",
              "      <th>Team</th>\n",
              "      <th>Player</th>\n",
              "      <th>Pos</th>\n",
              "      <th>Age</th>\n",
              "      <th>To</th>\n",
              "      <th>AP</th>\n",
              "      <th>PB</th>\n",
              "      <th>St</th>\n",
              "      <th>CarAV</th>\n",
              "      <th>DrAV</th>\n",
              "      <th>G</th>\n",
              "      <th>Pass_Cmp</th>\n",
              "      <th>Pass_Att</th>\n",
              "      <th>Pass_Yds</th>\n",
              "      <th>Pass_TD</th>\n",
              "      <th>Pass_Int</th>\n",
              "      <th>Rush_Att</th>\n",
              "      <th>Rush_Yds</th>\n",
              "      <th>Rush_TD</th>\n",
              "      <th>Rec</th>\n",
              "      <th>Rec_Yds</th>\n",
              "      <th>Rec_TD</th>\n",
              "      <th>Def_Solo</th>\n",
              "      <th>Def_Int</th>\n",
              "      <th>Def_Sk</th>\n",
              "      <th>School</th>\n",
              "      <th>40_Yd</th>\n",
              "      <th>Vertical</th>\n",
              "      <th>Bench</th>\n",
              "      <th>Broad_Jump</th>\n",
              "      <th>3_Cone</th>\n",
              "      <th>Shuttle</th>\n",
              "    </tr>\n",
              "  </thead>\n",
              "  <tbody>\n",
              "    <tr>\n",
              "      <th>0</th>\n",
              "      <td>1</td>\n",
              "      <td>18</td>\n",
              "      <td>2000</td>\n",
              "      <td>NYJ</td>\n",
              "      <td>Chad Pennington</td>\n",
              "      <td>QB</td>\n",
              "      <td>24.0</td>\n",
              "      <td>2010.0</td>\n",
              "      <td>0</td>\n",
              "      <td>0</td>\n",
              "      <td>5</td>\n",
              "      <td>55.0</td>\n",
              "      <td>41.0</td>\n",
              "      <td>89.0</td>\n",
              "      <td>1632.0</td>\n",
              "      <td>2471.0</td>\n",
              "      <td>17823.0</td>\n",
              "      <td>102.0</td>\n",
              "      <td>64.0</td>\n",
              "      <td>180.0</td>\n",
              "      <td>465.0</td>\n",
              "      <td>7.0</td>\n",
              "      <td>0.0</td>\n",
              "      <td>7.0</td>\n",
              "      <td>0.0</td>\n",
              "      <td>NaN</td>\n",
              "      <td>NaN</td>\n",
              "      <td>NaN</td>\n",
              "      <td>Marshall</td>\n",
              "      <td>4.81</td>\n",
              "      <td>33.5</td>\n",
              "      <td>NaN</td>\n",
              "      <td>111.0</td>\n",
              "      <td>7.12</td>\n",
              "      <td>4.16</td>\n",
              "    </tr>\n",
              "    <tr>\n",
              "      <th>1</th>\n",
              "      <td>3</td>\n",
              "      <td>65</td>\n",
              "      <td>2000</td>\n",
              "      <td>SFO</td>\n",
              "      <td>Giovanni Carmazzi</td>\n",
              "      <td>QB</td>\n",
              "      <td>NaN</td>\n",
              "      <td>NaN</td>\n",
              "      <td>0</td>\n",
              "      <td>0</td>\n",
              "      <td>0</td>\n",
              "      <td>NaN</td>\n",
              "      <td>NaN</td>\n",
              "      <td>NaN</td>\n",
              "      <td>NaN</td>\n",
              "      <td>NaN</td>\n",
              "      <td>NaN</td>\n",
              "      <td>NaN</td>\n",
              "      <td>NaN</td>\n",
              "      <td>NaN</td>\n",
              "      <td>NaN</td>\n",
              "      <td>NaN</td>\n",
              "      <td>NaN</td>\n",
              "      <td>NaN</td>\n",
              "      <td>NaN</td>\n",
              "      <td>NaN</td>\n",
              "      <td>NaN</td>\n",
              "      <td>NaN</td>\n",
              "      <td>Hofstra</td>\n",
              "      <td>4.74</td>\n",
              "      <td>36.5</td>\n",
              "      <td>NaN</td>\n",
              "      <td>119.0</td>\n",
              "      <td>6.94</td>\n",
              "      <td>4.23</td>\n",
              "    </tr>\n",
              "    <tr>\n",
              "      <th>2</th>\n",
              "      <td>3</td>\n",
              "      <td>75</td>\n",
              "      <td>2000</td>\n",
              "      <td>BAL</td>\n",
              "      <td>Chris Redman</td>\n",
              "      <td>QB</td>\n",
              "      <td>23.0</td>\n",
              "      <td>2011.0</td>\n",
              "      <td>0</td>\n",
              "      <td>0</td>\n",
              "      <td>0</td>\n",
              "      <td>9.0</td>\n",
              "      <td>3.0</td>\n",
              "      <td>31.0</td>\n",
              "      <td>286.0</td>\n",
              "      <td>500.0</td>\n",
              "      <td>3179.0</td>\n",
              "      <td>21.0</td>\n",
              "      <td>14.0</td>\n",
              "      <td>33.0</td>\n",
              "      <td>25.0</td>\n",
              "      <td>0.0</td>\n",
              "      <td>0.0</td>\n",
              "      <td>0.0</td>\n",
              "      <td>0.0</td>\n",
              "      <td>NaN</td>\n",
              "      <td>NaN</td>\n",
              "      <td>NaN</td>\n",
              "      <td>Louisville</td>\n",
              "      <td>5.37</td>\n",
              "      <td>26.5</td>\n",
              "      <td>NaN</td>\n",
              "      <td>98.0</td>\n",
              "      <td>7.80</td>\n",
              "      <td>4.78</td>\n",
              "    </tr>\n",
              "    <tr>\n",
              "      <th>3</th>\n",
              "      <td>5</td>\n",
              "      <td>163</td>\n",
              "      <td>2000</td>\n",
              "      <td>PIT</td>\n",
              "      <td>Tee Martin</td>\n",
              "      <td>QB</td>\n",
              "      <td>22.0</td>\n",
              "      <td>2003.0</td>\n",
              "      <td>0</td>\n",
              "      <td>0</td>\n",
              "      <td>0</td>\n",
              "      <td>0.0</td>\n",
              "      <td>0.0</td>\n",
              "      <td>3.0</td>\n",
              "      <td>6.0</td>\n",
              "      <td>16.0</td>\n",
              "      <td>69.0</td>\n",
              "      <td>0.0</td>\n",
              "      <td>1.0</td>\n",
              "      <td>6.0</td>\n",
              "      <td>36.0</td>\n",
              "      <td>0.0</td>\n",
              "      <td>0.0</td>\n",
              "      <td>0.0</td>\n",
              "      <td>0.0</td>\n",
              "      <td>NaN</td>\n",
              "      <td>NaN</td>\n",
              "      <td>NaN</td>\n",
              "      <td>Tennessee</td>\n",
              "      <td>4.58</td>\n",
              "      <td>34.5</td>\n",
              "      <td>NaN</td>\n",
              "      <td>113.0</td>\n",
              "      <td>NaN</td>\n",
              "      <td>NaN</td>\n",
              "    </tr>\n",
              "    <tr>\n",
              "      <th>4</th>\n",
              "      <td>6</td>\n",
              "      <td>168</td>\n",
              "      <td>2000</td>\n",
              "      <td>NOR</td>\n",
              "      <td>Marc Bulger</td>\n",
              "      <td>QB</td>\n",
              "      <td>23.0</td>\n",
              "      <td>2009.0</td>\n",
              "      <td>0</td>\n",
              "      <td>2</td>\n",
              "      <td>8</td>\n",
              "      <td>57.0</td>\n",
              "      <td>NaN</td>\n",
              "      <td>96.0</td>\n",
              "      <td>1969.0</td>\n",
              "      <td>3171.0</td>\n",
              "      <td>22814.0</td>\n",
              "      <td>122.0</td>\n",
              "      <td>93.0</td>\n",
              "      <td>118.0</td>\n",
              "      <td>300.0</td>\n",
              "      <td>8.0</td>\n",
              "      <td>4.0</td>\n",
              "      <td>21.0</td>\n",
              "      <td>0.0</td>\n",
              "      <td>NaN</td>\n",
              "      <td>NaN</td>\n",
              "      <td>NaN</td>\n",
              "      <td>West Virginia</td>\n",
              "      <td>4.97</td>\n",
              "      <td>NaN</td>\n",
              "      <td>NaN</td>\n",
              "      <td>100.0</td>\n",
              "      <td>7.46</td>\n",
              "      <td>4.34</td>\n",
              "    </tr>\n",
              "  </tbody>\n",
              "</table>\n",
              "</div>"
            ],
            "text/plain": [
              "   Rnd  Pick  Year Team  ... Bench Broad_Jump  3_Cone  Shuttle\n",
              "0    1    18  2000  NYJ  ...   NaN      111.0    7.12     4.16\n",
              "1    3    65  2000  SFO  ...   NaN      119.0    6.94     4.23\n",
              "2    3    75  2000  BAL  ...   NaN       98.0    7.80     4.78\n",
              "3    5   163  2000  PIT  ...   NaN      113.0     NaN      NaN\n",
              "4    6   168  2000  NOR  ...   NaN      100.0    7.46     4.34\n",
              "\n",
              "[5 rows x 35 columns]"
            ]
          },
          "metadata": {
            "tags": []
          },
          "execution_count": 3
        }
      ]
    },
    {
      "cell_type": "markdown",
      "metadata": {
        "id": "9YMFyvMUQR5z"
      },
      "source": [
        "**Data:** This is the NFL data from 2000 - 2021. It consists of every NFL player drafted between those years, their NFL stats as well as the NFL Combine results. This data was all from https://www.pro-football-reference.com/draft/ and exported to a CSV file. It is sorted by position, then draft year, and then draft round and pick. The features include information about the player: name, draft pick, pos, as well as their NFL stats, and even their combine results from before their draft. When I was originally starting to work on my project, I was going to use NFL and College stats for my dataset, however I was unsuccessful with using college stats. The reason for this is because of Covid, not every school had a season, and not every player played. It created a very big gap between even the best players and my predictions were very close to 0%. "
      ]
    },
    {
      "cell_type": "code",
      "metadata": {
        "id": "3qssTCK51DPy"
      },
      "source": [
        "df.fillna(df.mean(), inplace=True)"
      ],
      "execution_count": null,
      "outputs": []
    },
    {
      "cell_type": "markdown",
      "metadata": {
        "id": "cl3oGQboRH4N"
      },
      "source": [
        "This dataset consisted of a lot of missing values. It is not because the data set is missing values, it is because every player does not simply do everything. For example a running back does not throw the ball, and a quarterback does not get a sack. To fix this, I was able to set set the empty values to the average value so that it would not affect the predictions."
      ]
    },
    {
      "cell_type": "code",
      "metadata": {
        "id": "FUW5NUvRS0r2",
        "colab": {
          "base_uri": "https://localhost:8080/",
          "height": 394
        },
        "outputId": "9799d275-1f2b-4962-e4d2-36dc0a2891e2"
      },
      "source": [
        "row,col = df.shape\n",
        "print(\"\")\n",
        "print('\\033[1m'+'This is the NFL Draft Dataset.','\\033[0m')\n",
        "print('\\033[1m'+'While looking at the NFL Draft Dataset below:','\\033[0m')\n",
        "print('\\033[1m'+'We can see that this dataset has', row, 'instances, and', col, 'features.\\n\\n','\\033[0m')\n",
        "\n",
        "df.head()"
      ],
      "execution_count": null,
      "outputs": [
        {
          "output_type": "stream",
          "text": [
            "\n",
            "\u001b[1mThis is the NFL Draft Dataset. \u001b[0m\n",
            "\u001b[1mWhile looking at the NFL Draft Dataset below: \u001b[0m\n",
            "\u001b[1mWe can see that this dataset has 5456 instances, and 35 features.\n",
            "\n",
            " \u001b[0m\n"
          ],
          "name": "stdout"
        },
        {
          "output_type": "execute_result",
          "data": {
            "text/html": [
              "<div>\n",
              "<style scoped>\n",
              "    .dataframe tbody tr th:only-of-type {\n",
              "        vertical-align: middle;\n",
              "    }\n",
              "\n",
              "    .dataframe tbody tr th {\n",
              "        vertical-align: top;\n",
              "    }\n",
              "\n",
              "    .dataframe thead th {\n",
              "        text-align: right;\n",
              "    }\n",
              "</style>\n",
              "<table border=\"1\" class=\"dataframe\">\n",
              "  <thead>\n",
              "    <tr style=\"text-align: right;\">\n",
              "      <th></th>\n",
              "      <th>Rnd</th>\n",
              "      <th>Pick</th>\n",
              "      <th>Year</th>\n",
              "      <th>Team</th>\n",
              "      <th>Player</th>\n",
              "      <th>Pos</th>\n",
              "      <th>Age</th>\n",
              "      <th>To</th>\n",
              "      <th>AP</th>\n",
              "      <th>PB</th>\n",
              "      <th>St</th>\n",
              "      <th>CarAV</th>\n",
              "      <th>DrAV</th>\n",
              "      <th>G</th>\n",
              "      <th>Pass_Cmp</th>\n",
              "      <th>Pass_Att</th>\n",
              "      <th>Pass_Yds</th>\n",
              "      <th>Pass_TD</th>\n",
              "      <th>Pass_Int</th>\n",
              "      <th>Rush_Att</th>\n",
              "      <th>Rush_Yds</th>\n",
              "      <th>Rush_TD</th>\n",
              "      <th>Rec</th>\n",
              "      <th>Rec_Yds</th>\n",
              "      <th>Rec_TD</th>\n",
              "      <th>Def_Solo</th>\n",
              "      <th>Def_Int</th>\n",
              "      <th>Def_Sk</th>\n",
              "      <th>School</th>\n",
              "      <th>40_Yd</th>\n",
              "      <th>Vertical</th>\n",
              "      <th>Bench</th>\n",
              "      <th>Broad_Jump</th>\n",
              "      <th>3_Cone</th>\n",
              "      <th>Shuttle</th>\n",
              "    </tr>\n",
              "  </thead>\n",
              "  <tbody>\n",
              "    <tr>\n",
              "      <th>0</th>\n",
              "      <td>1</td>\n",
              "      <td>18</td>\n",
              "      <td>2000</td>\n",
              "      <td>NYJ</td>\n",
              "      <td>Chad Pennington</td>\n",
              "      <td>QB</td>\n",
              "      <td>24.000000</td>\n",
              "      <td>2010.000000</td>\n",
              "      <td>0</td>\n",
              "      <td>0</td>\n",
              "      <td>5</td>\n",
              "      <td>55.000000</td>\n",
              "      <td>41.000000</td>\n",
              "      <td>89.000000</td>\n",
              "      <td>1632.000000</td>\n",
              "      <td>2471.000000</td>\n",
              "      <td>17823.000000</td>\n",
              "      <td>102.000000</td>\n",
              "      <td>64.000000</td>\n",
              "      <td>180.00000</td>\n",
              "      <td>465.000000</td>\n",
              "      <td>7.000000</td>\n",
              "      <td>0.00000</td>\n",
              "      <td>7.00000</td>\n",
              "      <td>0.000000</td>\n",
              "      <td>103.401789</td>\n",
              "      <td>5.882777</td>\n",
              "      <td>11.021869</td>\n",
              "      <td>Marshall</td>\n",
              "      <td>4.81</td>\n",
              "      <td>33.500000</td>\n",
              "      <td>21.427407</td>\n",
              "      <td>111.0</td>\n",
              "      <td>7.120000</td>\n",
              "      <td>4.160000</td>\n",
              "    </tr>\n",
              "    <tr>\n",
              "      <th>1</th>\n",
              "      <td>3</td>\n",
              "      <td>65</td>\n",
              "      <td>2000</td>\n",
              "      <td>SFO</td>\n",
              "      <td>Giovanni Carmazzi</td>\n",
              "      <td>QB</td>\n",
              "      <td>22.483082</td>\n",
              "      <td>2014.236731</td>\n",
              "      <td>0</td>\n",
              "      <td>0</td>\n",
              "      <td>0</td>\n",
              "      <td>16.343092</td>\n",
              "      <td>12.891782</td>\n",
              "      <td>57.347319</td>\n",
              "      <td>32.131003</td>\n",
              "      <td>52.131634</td>\n",
              "      <td>367.488837</td>\n",
              "      <td>2.256108</td>\n",
              "      <td>1.388245</td>\n",
              "      <td>41.89743</td>\n",
              "      <td>178.012848</td>\n",
              "      <td>1.284962</td>\n",
              "      <td>30.96904</td>\n",
              "      <td>359.30834</td>\n",
              "      <td>2.196925</td>\n",
              "      <td>103.401789</td>\n",
              "      <td>5.882777</td>\n",
              "      <td>11.021869</td>\n",
              "      <td>Hofstra</td>\n",
              "      <td>4.74</td>\n",
              "      <td>36.500000</td>\n",
              "      <td>21.427407</td>\n",
              "      <td>119.0</td>\n",
              "      <td>6.940000</td>\n",
              "      <td>4.230000</td>\n",
              "    </tr>\n",
              "    <tr>\n",
              "      <th>2</th>\n",
              "      <td>3</td>\n",
              "      <td>75</td>\n",
              "      <td>2000</td>\n",
              "      <td>BAL</td>\n",
              "      <td>Chris Redman</td>\n",
              "      <td>QB</td>\n",
              "      <td>23.000000</td>\n",
              "      <td>2011.000000</td>\n",
              "      <td>0</td>\n",
              "      <td>0</td>\n",
              "      <td>0</td>\n",
              "      <td>9.000000</td>\n",
              "      <td>3.000000</td>\n",
              "      <td>31.000000</td>\n",
              "      <td>286.000000</td>\n",
              "      <td>500.000000</td>\n",
              "      <td>3179.000000</td>\n",
              "      <td>21.000000</td>\n",
              "      <td>14.000000</td>\n",
              "      <td>33.00000</td>\n",
              "      <td>25.000000</td>\n",
              "      <td>0.000000</td>\n",
              "      <td>0.00000</td>\n",
              "      <td>0.00000</td>\n",
              "      <td>0.000000</td>\n",
              "      <td>103.401789</td>\n",
              "      <td>5.882777</td>\n",
              "      <td>11.021869</td>\n",
              "      <td>Louisville</td>\n",
              "      <td>5.37</td>\n",
              "      <td>26.500000</td>\n",
              "      <td>21.427407</td>\n",
              "      <td>98.0</td>\n",
              "      <td>7.800000</td>\n",
              "      <td>4.780000</td>\n",
              "    </tr>\n",
              "    <tr>\n",
              "      <th>3</th>\n",
              "      <td>5</td>\n",
              "      <td>163</td>\n",
              "      <td>2000</td>\n",
              "      <td>PIT</td>\n",
              "      <td>Tee Martin</td>\n",
              "      <td>QB</td>\n",
              "      <td>22.000000</td>\n",
              "      <td>2003.000000</td>\n",
              "      <td>0</td>\n",
              "      <td>0</td>\n",
              "      <td>0</td>\n",
              "      <td>0.000000</td>\n",
              "      <td>0.000000</td>\n",
              "      <td>3.000000</td>\n",
              "      <td>6.000000</td>\n",
              "      <td>16.000000</td>\n",
              "      <td>69.000000</td>\n",
              "      <td>0.000000</td>\n",
              "      <td>1.000000</td>\n",
              "      <td>6.00000</td>\n",
              "      <td>36.000000</td>\n",
              "      <td>0.000000</td>\n",
              "      <td>0.00000</td>\n",
              "      <td>0.00000</td>\n",
              "      <td>0.000000</td>\n",
              "      <td>103.401789</td>\n",
              "      <td>5.882777</td>\n",
              "      <td>11.021869</td>\n",
              "      <td>Tennessee</td>\n",
              "      <td>4.58</td>\n",
              "      <td>34.500000</td>\n",
              "      <td>21.427407</td>\n",
              "      <td>113.0</td>\n",
              "      <td>7.252479</td>\n",
              "      <td>4.375892</td>\n",
              "    </tr>\n",
              "    <tr>\n",
              "      <th>4</th>\n",
              "      <td>6</td>\n",
              "      <td>168</td>\n",
              "      <td>2000</td>\n",
              "      <td>NOR</td>\n",
              "      <td>Marc Bulger</td>\n",
              "      <td>QB</td>\n",
              "      <td>23.000000</td>\n",
              "      <td>2009.000000</td>\n",
              "      <td>0</td>\n",
              "      <td>2</td>\n",
              "      <td>8</td>\n",
              "      <td>57.000000</td>\n",
              "      <td>12.891782</td>\n",
              "      <td>96.000000</td>\n",
              "      <td>1969.000000</td>\n",
              "      <td>3171.000000</td>\n",
              "      <td>22814.000000</td>\n",
              "      <td>122.000000</td>\n",
              "      <td>93.000000</td>\n",
              "      <td>118.00000</td>\n",
              "      <td>300.000000</td>\n",
              "      <td>8.000000</td>\n",
              "      <td>4.00000</td>\n",
              "      <td>21.00000</td>\n",
              "      <td>0.000000</td>\n",
              "      <td>103.401789</td>\n",
              "      <td>5.882777</td>\n",
              "      <td>11.021869</td>\n",
              "      <td>West Virginia</td>\n",
              "      <td>4.97</td>\n",
              "      <td>33.345298</td>\n",
              "      <td>21.427407</td>\n",
              "      <td>100.0</td>\n",
              "      <td>7.460000</td>\n",
              "      <td>4.340000</td>\n",
              "    </tr>\n",
              "  </tbody>\n",
              "</table>\n",
              "</div>"
            ],
            "text/plain": [
              "   Rnd  Pick  Year Team  ...      Bench Broad_Jump    3_Cone   Shuttle\n",
              "0    1    18  2000  NYJ  ...  21.427407      111.0  7.120000  4.160000\n",
              "1    3    65  2000  SFO  ...  21.427407      119.0  6.940000  4.230000\n",
              "2    3    75  2000  BAL  ...  21.427407       98.0  7.800000  4.780000\n",
              "3    5   163  2000  PIT  ...  21.427407      113.0  7.252479  4.375892\n",
              "4    6   168  2000  NOR  ...  21.427407      100.0  7.460000  4.340000\n",
              "\n",
              "[5 rows x 35 columns]"
            ]
          },
          "metadata": {
            "tags": []
          },
          "execution_count": 5
        }
      ]
    },
    {
      "cell_type": "code",
      "metadata": {
        "id": "UDAxPINBTEOk",
        "colab": {
          "base_uri": "https://localhost:8080/"
        },
        "outputId": "e66a20e8-6f74-45ee-86a9-26eee31a6ece"
      },
      "source": [
        "df.dtypes"
      ],
      "execution_count": null,
      "outputs": [
        {
          "output_type": "execute_result",
          "data": {
            "text/plain": [
              "Rnd             int64\n",
              "Pick            int64\n",
              "Year            int64\n",
              "Team           object\n",
              "Player         object\n",
              "Pos            object\n",
              "Age           float64\n",
              "To            float64\n",
              "AP              int64\n",
              "PB              int64\n",
              "St              int64\n",
              "CarAV         float64\n",
              "DrAV          float64\n",
              "G             float64\n",
              "Pass_Cmp      float64\n",
              "Pass_Att      float64\n",
              "Pass_Yds      float64\n",
              "Pass_TD       float64\n",
              "Pass_Int      float64\n",
              "Rush_Att      float64\n",
              "Rush_Yds      float64\n",
              "Rush_TD       float64\n",
              "Rec           float64\n",
              "Rec_Yds       float64\n",
              "Rec_TD        float64\n",
              "Def_Solo      float64\n",
              "Def_Int       float64\n",
              "Def_Sk        float64\n",
              "School         object\n",
              "40_Yd         float64\n",
              "Vertical      float64\n",
              "Bench         float64\n",
              "Broad_Jump    float64\n",
              "3_Cone        float64\n",
              "Shuttle       float64\n",
              "dtype: object"
            ]
          },
          "metadata": {
            "tags": []
          },
          "execution_count": 6
        }
      ]
    },
    {
      "cell_type": "markdown",
      "metadata": {
        "id": "hteXA4GTRgv0"
      },
      "source": [
        "Apart from the team name, player, position, and school the other features consists of integers and floating point numbers."
      ]
    },
    {
      "cell_type": "code",
      "metadata": {
        "id": "Wa6jWSdHS24V",
        "colab": {
          "base_uri": "https://localhost:8080/"
        },
        "outputId": "969bad14-03ee-48b1-9b27-cde89ceb9d22"
      },
      "source": [
        "import pandas as pd\n",
        "from statistics import mean\n",
        "\n",
        "df.isnull().mean() * 100"
      ],
      "execution_count": null,
      "outputs": [
        {
          "output_type": "execute_result",
          "data": {
            "text/plain": [
              "Rnd           0.000000\n",
              "Pick          0.000000\n",
              "Year          0.000000\n",
              "Team          0.000000\n",
              "Player        0.000000\n",
              "Pos           0.000000\n",
              "Age           0.000000\n",
              "To            0.000000\n",
              "AP            0.000000\n",
              "PB            0.000000\n",
              "St            0.000000\n",
              "CarAV         0.000000\n",
              "DrAV          0.000000\n",
              "G             0.000000\n",
              "Pass_Cmp      0.000000\n",
              "Pass_Att      0.000000\n",
              "Pass_Yds      0.000000\n",
              "Pass_TD       0.000000\n",
              "Pass_Int      0.000000\n",
              "Rush_Att      0.000000\n",
              "Rush_Yds      0.000000\n",
              "Rush_TD       0.000000\n",
              "Rec           0.000000\n",
              "Rec_Yds       0.000000\n",
              "Rec_TD        0.000000\n",
              "Def_Solo      0.000000\n",
              "Def_Int       0.000000\n",
              "Def_Sk        0.000000\n",
              "School        0.036657\n",
              "40_Yd         0.000000\n",
              "Vertical      0.000000\n",
              "Bench         0.000000\n",
              "Broad_Jump    0.000000\n",
              "3_Cone        0.000000\n",
              "Shuttle       0.000000\n",
              "dtype: float64"
            ]
          },
          "metadata": {
            "tags": []
          },
          "execution_count": 7
        }
      ]
    },
    {
      "cell_type": "markdown",
      "metadata": {
        "id": "Kx9ysRiag8C6"
      },
      "source": [
        "This was to check that there are no missing values. The reason why the only missing value is \"School\" with about 3.67% missing, is because some players are drafted after playing in an international league, or rugby league overseas and there is not a college requirement like there is for players coming from College today. Now, the NFL has a rule that to be eligable for the NFL draft, you must be out of highschool for at least 3 years before playing in the NFL. "
      ]
    },
    {
      "cell_type": "code",
      "metadata": {
        "id": "3Z-atGsvhGKz",
        "colab": {
          "base_uri": "https://localhost:8080/"
        },
        "outputId": "c7459aee-8278-437b-bc43-7519a7eff186"
      },
      "source": [
        "print(\"Rnd:\",round((df.var()['Rnd']),2))\n",
        "print(\"Pick:\",round((df.var()['Pick']),2))\n",
        "print(\"Year:\",round((df.var()['Year']),2))\n",
        "print(\"Age:\",round((df.var()['Age']),2))\n",
        "print(\"To:\",round((df.var()['To']),2))\n",
        "print(\"AP:\",round((df.var()['AP']),2))\n",
        "print(\"PB:\",round((df.var()['PB']),2))\n",
        "print(\"St:\",round((df.var()['St']),2))\n",
        "print(\"CarAV:\",round((df.var()['CarAV']),2))\n",
        "print(\"DrAV:\",round((df.var()['DrAV']),2))\n",
        "print(\"G:\",round((df.var()['G']),2))\n",
        "print(\"Pass_Cmp:\",round((df.var()['Pass_Cmp']),2))\n",
        "print(\"Pass_Att:\",round((df.var()['Pass_Att']),2))\n",
        "print(\"Pass_TD:\",round((df.var()['Pass_TD']),2))\n",
        "print(\"Pass_Int:\",round((df.var()['Pass_Int']),2))\n",
        "print(\"Rush_Att:\",round((df.var()['Rush_Att']),2))\n",
        "print(\"Rush_Yds:\",round((df.var()['Rush_Yds']),2))\n",
        "print(\"Rush_TD:\",round((df.var()['Rush_TD']),2))\n",
        "print(\"Rec:\",round((df.var()['Rec']),2))\n",
        "print(\"Rec_Yds:\",round((df.var()['Rec_Yds']),2))\n",
        "print(\"Rec_TD:\",round((df.var()['Rec_TD']),2))\n",
        "print(\"Def_Solo:\",round((df.var()['Def_Solo']),2))\n",
        "print(\"Def_Int:\",round((df.var()['Def_Int']),2))\n",
        "print(\"Def_Sk:\",round((df.var()['Def_Sk']),2))\n",
        "print(\"40_Yd:\",round((df.var()['40_Yd']),2))\n",
        "print(\"Vertical:\",round((df.var()['Vertical']),2))\n",
        "print(\"Bench:\",round((df.var()['Bench']),2))\n",
        "print(\"Broad_Jump:\",round((df.var()['Broad_Jump']),2))\n",
        "print(\"3_Cone:\",round((df.var()['3_Cone']),2))\n",
        "print(\"Shuttle:\",round((df.var()['Shuttle']),2))\n",
        "\n",
        "\n"
      ],
      "execution_count": null,
      "outputs": [
        {
          "output_type": "stream",
          "text": [
            "Rnd: 4.04\n",
            "Pick: 5439.12\n",
            "Year: 40.15\n",
            "Age: 0.77\n",
            "To: 25.89\n",
            "AP: 0.16\n",
            "PB: 1.1\n",
            "St: 7.74\n",
            "CarAV: 372.04\n",
            "DrAV: 250.0\n",
            "G: 1948.04\n",
            "Pass_Cmp: 74806.96\n",
            "Pass_Att: 186721.99\n",
            "Pass_TD: 433.8\n",
            "Pass_Int: 116.99\n",
            "Rush_Att: 38165.61\n",
            "Rush_Yds: 708056.3\n",
            "Rush_TD: 40.26\n",
            "Rec: 8815.5\n",
            "Rec_Yds: 1383153.23\n",
            "Rec_TD: 58.82\n",
            "Def_Solo: 12486.1\n",
            "Def_Int: 10.4\n",
            "Def_Sk: 90.98\n",
            "40_Yd: 0.07\n",
            "Vertical: 11.43\n",
            "Bench: 24.37\n",
            "Broad_Jump: 57.18\n",
            "3_Cone: 0.09\n",
            "Shuttle: 0.04\n"
          ],
          "name": "stdout"
        }
      ]
    },
    {
      "cell_type": "markdown",
      "metadata": {
        "id": "3BkI9UAmRrSC"
      },
      "source": [
        "Above is the variance for each of the features in the data set. Age and all pro selections are close to 0, so they were removed as they do not have much affect on the prediction. This makes a lot of sense as, pretty much every player drafted is around the same age because they are required to go to school for at least three years, and the number of all pro selections are not determined by their draft pick, but instead how well they play in the NFL. The NFL and college are two different football games, and there are many rules that are different between the two of them. For example in college you only need 1 foot in bounds, for it to be considered a catch, put in the NFL, you need both feet in bounds. Often times, players who are very good in college do not turn out to be the best in the NFL."
      ]
    },
    {
      "cell_type": "code",
      "metadata": {
        "id": "YJt4FY75kzMW"
      },
      "source": [
        "df.drop('Age', inplace = True, axis = 1)\n",
        "df.drop('AP', inplace = True, axis = 1)\n",
        "df.drop('3_Cone', inplace = True, axis = 1)\n",
        "df.drop('40_Yd', inplace = True, axis = 1)\n",
        "df.drop('Shuttle', inplace = True, axis = 1)\n"
      ],
      "execution_count": null,
      "outputs": []
    },
    {
      "cell_type": "code",
      "metadata": {
        "id": "lyhf7uCKS356",
        "colab": {
          "base_uri": "https://localhost:8080/",
          "height": 317
        },
        "outputId": "bd9fe786-d187-4528-90e4-0c2dca23d37b"
      },
      "source": [
        "df.describe()"
      ],
      "execution_count": null,
      "outputs": [
        {
          "output_type": "execute_result",
          "data": {
            "text/html": [
              "<div>\n",
              "<style scoped>\n",
              "    .dataframe tbody tr th:only-of-type {\n",
              "        vertical-align: middle;\n",
              "    }\n",
              "\n",
              "    .dataframe tbody tr th {\n",
              "        vertical-align: top;\n",
              "    }\n",
              "\n",
              "    .dataframe thead th {\n",
              "        text-align: right;\n",
              "    }\n",
              "</style>\n",
              "<table border=\"1\" class=\"dataframe\">\n",
              "  <thead>\n",
              "    <tr style=\"text-align: right;\">\n",
              "      <th></th>\n",
              "      <th>Rnd</th>\n",
              "      <th>Pick</th>\n",
              "      <th>Year</th>\n",
              "      <th>To</th>\n",
              "      <th>PB</th>\n",
              "      <th>St</th>\n",
              "      <th>CarAV</th>\n",
              "      <th>DrAV</th>\n",
              "      <th>G</th>\n",
              "      <th>Pass_Cmp</th>\n",
              "      <th>Pass_Att</th>\n",
              "      <th>Pass_Yds</th>\n",
              "      <th>Pass_TD</th>\n",
              "      <th>Pass_Int</th>\n",
              "      <th>Rush_Att</th>\n",
              "      <th>Rush_Yds</th>\n",
              "      <th>Rush_TD</th>\n",
              "      <th>Rec</th>\n",
              "      <th>Rec_Yds</th>\n",
              "      <th>Rec_TD</th>\n",
              "      <th>Def_Solo</th>\n",
              "      <th>Def_Int</th>\n",
              "      <th>Def_Sk</th>\n",
              "      <th>Vertical</th>\n",
              "      <th>Bench</th>\n",
              "      <th>Broad_Jump</th>\n",
              "    </tr>\n",
              "  </thead>\n",
              "  <tbody>\n",
              "    <tr>\n",
              "      <th>count</th>\n",
              "      <td>5456.000000</td>\n",
              "      <td>5456.000000</td>\n",
              "      <td>5456.000000</td>\n",
              "      <td>5456.000000</td>\n",
              "      <td>5456.000000</td>\n",
              "      <td>5456.000000</td>\n",
              "      <td>5456.000000</td>\n",
              "      <td>5456.000000</td>\n",
              "      <td>5456.000000</td>\n",
              "      <td>5456.000000</td>\n",
              "      <td>5456.000000</td>\n",
              "      <td>5456.000000</td>\n",
              "      <td>5456.000000</td>\n",
              "      <td>5456.000000</td>\n",
              "      <td>5456.000000</td>\n",
              "      <td>5456.000000</td>\n",
              "      <td>5456.000000</td>\n",
              "      <td>5456.000000</td>\n",
              "      <td>5456.000000</td>\n",
              "      <td>5456.000000</td>\n",
              "      <td>5456.000000</td>\n",
              "      <td>5456.000000</td>\n",
              "      <td>5456.000000</td>\n",
              "      <td>5456.000000</td>\n",
              "      <td>5456.000000</td>\n",
              "      <td>5456.000000</td>\n",
              "    </tr>\n",
              "    <tr>\n",
              "      <th>mean</th>\n",
              "      <td>4.165872</td>\n",
              "      <td>126.774560</td>\n",
              "      <td>2010.508981</td>\n",
              "      <td>2014.236731</td>\n",
              "      <td>0.272727</td>\n",
              "      <td>1.787207</td>\n",
              "      <td>16.343092</td>\n",
              "      <td>12.891782</td>\n",
              "      <td>57.347319</td>\n",
              "      <td>32.131003</td>\n",
              "      <td>52.131634</td>\n",
              "      <td>367.488837</td>\n",
              "      <td>2.256108</td>\n",
              "      <td>1.388245</td>\n",
              "      <td>41.897430</td>\n",
              "      <td>178.012848</td>\n",
              "      <td>1.284962</td>\n",
              "      <td>30.969040</td>\n",
              "      <td>359.308340</td>\n",
              "      <td>2.196925</td>\n",
              "      <td>103.401789</td>\n",
              "      <td>5.882777</td>\n",
              "      <td>11.021869</td>\n",
              "      <td>33.345298</td>\n",
              "      <td>21.427407</td>\n",
              "      <td>115.346543</td>\n",
              "    </tr>\n",
              "    <tr>\n",
              "      <th>std</th>\n",
              "      <td>2.009185</td>\n",
              "      <td>73.750376</td>\n",
              "      <td>6.336364</td>\n",
              "      <td>5.088293</td>\n",
              "      <td>1.049131</td>\n",
              "      <td>2.782291</td>\n",
              "      <td>19.288281</td>\n",
              "      <td>15.811274</td>\n",
              "      <td>44.136651</td>\n",
              "      <td>273.508602</td>\n",
              "      <td>432.113394</td>\n",
              "      <td>3160.363634</td>\n",
              "      <td>20.827750</td>\n",
              "      <td>10.816353</td>\n",
              "      <td>195.360202</td>\n",
              "      <td>841.460812</td>\n",
              "      <td>6.345122</td>\n",
              "      <td>93.890888</td>\n",
              "      <td>1176.075352</td>\n",
              "      <td>7.669584</td>\n",
              "      <td>111.741197</td>\n",
              "      <td>3.224299</td>\n",
              "      <td>9.538237</td>\n",
              "      <td>3.380694</td>\n",
              "      <td>4.936563</td>\n",
              "      <td>7.561610</td>\n",
              "    </tr>\n",
              "    <tr>\n",
              "      <th>min</th>\n",
              "      <td>1.000000</td>\n",
              "      <td>1.000000</td>\n",
              "      <td>2000.000000</td>\n",
              "      <td>2000.000000</td>\n",
              "      <td>0.000000</td>\n",
              "      <td>0.000000</td>\n",
              "      <td>-4.000000</td>\n",
              "      <td>-4.000000</td>\n",
              "      <td>0.000000</td>\n",
              "      <td>0.000000</td>\n",
              "      <td>0.000000</td>\n",
              "      <td>-8.000000</td>\n",
              "      <td>0.000000</td>\n",
              "      <td>0.000000</td>\n",
              "      <td>0.000000</td>\n",
              "      <td>-21.000000</td>\n",
              "      <td>0.000000</td>\n",
              "      <td>0.000000</td>\n",
              "      <td>-16.000000</td>\n",
              "      <td>0.000000</td>\n",
              "      <td>1.000000</td>\n",
              "      <td>1.000000</td>\n",
              "      <td>0.500000</td>\n",
              "      <td>20.500000</td>\n",
              "      <td>2.000000</td>\n",
              "      <td>83.000000</td>\n",
              "    </tr>\n",
              "    <tr>\n",
              "      <th>25%</th>\n",
              "      <td>2.000000</td>\n",
              "      <td>63.000000</td>\n",
              "      <td>2005.000000</td>\n",
              "      <td>2011.000000</td>\n",
              "      <td>0.000000</td>\n",
              "      <td>0.000000</td>\n",
              "      <td>2.000000</td>\n",
              "      <td>2.000000</td>\n",
              "      <td>22.000000</td>\n",
              "      <td>0.000000</td>\n",
              "      <td>0.000000</td>\n",
              "      <td>0.000000</td>\n",
              "      <td>0.000000</td>\n",
              "      <td>0.000000</td>\n",
              "      <td>0.000000</td>\n",
              "      <td>0.000000</td>\n",
              "      <td>0.000000</td>\n",
              "      <td>0.000000</td>\n",
              "      <td>0.000000</td>\n",
              "      <td>0.000000</td>\n",
              "      <td>26.000000</td>\n",
              "      <td>5.882777</td>\n",
              "      <td>11.021869</td>\n",
              "      <td>32.500000</td>\n",
              "      <td>20.000000</td>\n",
              "      <td>114.000000</td>\n",
              "    </tr>\n",
              "    <tr>\n",
              "      <th>50%</th>\n",
              "      <td>4.000000</td>\n",
              "      <td>126.000000</td>\n",
              "      <td>2011.000000</td>\n",
              "      <td>2014.236731</td>\n",
              "      <td>0.000000</td>\n",
              "      <td>0.000000</td>\n",
              "      <td>11.000000</td>\n",
              "      <td>10.000000</td>\n",
              "      <td>56.000000</td>\n",
              "      <td>0.000000</td>\n",
              "      <td>0.000000</td>\n",
              "      <td>0.000000</td>\n",
              "      <td>0.000000</td>\n",
              "      <td>0.000000</td>\n",
              "      <td>0.000000</td>\n",
              "      <td>0.000000</td>\n",
              "      <td>0.000000</td>\n",
              "      <td>0.000000</td>\n",
              "      <td>0.000000</td>\n",
              "      <td>0.000000</td>\n",
              "      <td>103.401789</td>\n",
              "      <td>5.882777</td>\n",
              "      <td>11.021869</td>\n",
              "      <td>33.345298</td>\n",
              "      <td>21.427407</td>\n",
              "      <td>115.346543</td>\n",
              "    </tr>\n",
              "    <tr>\n",
              "      <th>75%</th>\n",
              "      <td>6.000000</td>\n",
              "      <td>191.000000</td>\n",
              "      <td>2016.000000</td>\n",
              "      <td>2020.000000</td>\n",
              "      <td>0.000000</td>\n",
              "      <td>3.000000</td>\n",
              "      <td>20.000000</td>\n",
              "      <td>14.000000</td>\n",
              "      <td>78.000000</td>\n",
              "      <td>0.000000</td>\n",
              "      <td>0.000000</td>\n",
              "      <td>0.000000</td>\n",
              "      <td>0.000000</td>\n",
              "      <td>0.000000</td>\n",
              "      <td>8.000000</td>\n",
              "      <td>38.250000</td>\n",
              "      <td>0.000000</td>\n",
              "      <td>30.969040</td>\n",
              "      <td>359.308340</td>\n",
              "      <td>2.000000</td>\n",
              "      <td>103.401789</td>\n",
              "      <td>5.882777</td>\n",
              "      <td>11.021869</td>\n",
              "      <td>35.000000</td>\n",
              "      <td>23.000000</td>\n",
              "      <td>119.000000</td>\n",
              "    </tr>\n",
              "    <tr>\n",
              "      <th>max</th>\n",
              "      <td>7.000000</td>\n",
              "      <td>262.000000</td>\n",
              "      <td>2021.000000</td>\n",
              "      <td>2020.000000</td>\n",
              "      <td>14.000000</td>\n",
              "      <td>19.000000</td>\n",
              "      <td>179.000000</td>\n",
              "      <td>170.000000</td>\n",
              "      <td>301.000000</td>\n",
              "      <td>7142.000000</td>\n",
              "      <td>10598.000000</td>\n",
              "      <td>80358.000000</td>\n",
              "      <td>581.000000</td>\n",
              "      <td>244.000000</td>\n",
              "      <td>3735.000000</td>\n",
              "      <td>16000.000000</td>\n",
              "      <td>145.000000</td>\n",
              "      <td>1432.000000</td>\n",
              "      <td>17492.000000</td>\n",
              "      <td>121.000000</td>\n",
              "      <td>1077.000000</td>\n",
              "      <td>64.000000</td>\n",
              "      <td>159.500000</td>\n",
              "      <td>46.000000</td>\n",
              "      <td>49.000000</td>\n",
              "      <td>147.000000</td>\n",
              "    </tr>\n",
              "  </tbody>\n",
              "</table>\n",
              "</div>"
            ],
            "text/plain": [
              "               Rnd         Pick  ...        Bench   Broad_Jump\n",
              "count  5456.000000  5456.000000  ...  5456.000000  5456.000000\n",
              "mean      4.165872   126.774560  ...    21.427407   115.346543\n",
              "std       2.009185    73.750376  ...     4.936563     7.561610\n",
              "min       1.000000     1.000000  ...     2.000000    83.000000\n",
              "25%       2.000000    63.000000  ...    20.000000   114.000000\n",
              "50%       4.000000   126.000000  ...    21.427407   115.346543\n",
              "75%       6.000000   191.000000  ...    23.000000   119.000000\n",
              "max       7.000000   262.000000  ...    49.000000   147.000000\n",
              "\n",
              "[8 rows x 26 columns]"
            ]
          },
          "metadata": {
            "tags": []
          },
          "execution_count": 10
        }
      ]
    },
    {
      "cell_type": "code",
      "metadata": {
        "id": "vTFOMgzxS5uD",
        "colab": {
          "base_uri": "https://localhost:8080/"
        },
        "outputId": "e046bc3c-e1a7-463a-81a3-76d57ac702e6"
      },
      "source": [
        "df.info()"
      ],
      "execution_count": null,
      "outputs": [
        {
          "output_type": "stream",
          "text": [
            "<class 'pandas.core.frame.DataFrame'>\n",
            "RangeIndex: 5456 entries, 0 to 5455\n",
            "Data columns (total 30 columns):\n",
            " #   Column      Non-Null Count  Dtype  \n",
            "---  ------      --------------  -----  \n",
            " 0   Rnd         5456 non-null   int64  \n",
            " 1   Pick        5456 non-null   int64  \n",
            " 2   Year        5456 non-null   int64  \n",
            " 3   Team        5456 non-null   object \n",
            " 4   Player      5456 non-null   object \n",
            " 5   Pos         5456 non-null   object \n",
            " 6   To          5456 non-null   float64\n",
            " 7   PB          5456 non-null   int64  \n",
            " 8   St          5456 non-null   int64  \n",
            " 9   CarAV       5456 non-null   float64\n",
            " 10  DrAV        5456 non-null   float64\n",
            " 11  G           5456 non-null   float64\n",
            " 12  Pass_Cmp    5456 non-null   float64\n",
            " 13  Pass_Att    5456 non-null   float64\n",
            " 14  Pass_Yds    5456 non-null   float64\n",
            " 15  Pass_TD     5456 non-null   float64\n",
            " 16  Pass_Int    5456 non-null   float64\n",
            " 17  Rush_Att    5456 non-null   float64\n",
            " 18  Rush_Yds    5456 non-null   float64\n",
            " 19  Rush_TD     5456 non-null   float64\n",
            " 20  Rec         5456 non-null   float64\n",
            " 21  Rec_Yds     5456 non-null   float64\n",
            " 22  Rec_TD      5456 non-null   float64\n",
            " 23  Def_Solo    5456 non-null   float64\n",
            " 24  Def_Int     5456 non-null   float64\n",
            " 25  Def_Sk      5456 non-null   float64\n",
            " 26  School      5454 non-null   object \n",
            " 27  Vertical    5456 non-null   float64\n",
            " 28  Bench       5456 non-null   float64\n",
            " 29  Broad_Jump  5456 non-null   float64\n",
            "dtypes: float64(21), int64(5), object(4)\n",
            "memory usage: 1.2+ MB\n"
          ],
          "name": "stdout"
        }
      ]
    },
    {
      "cell_type": "markdown",
      "metadata": {
        "id": "XWAqwAnAa8kk"
      },
      "source": [
        "While looking at the info of the dataframe, there are 32 instances. 4 of them are objects (team, player, position, and school), which are all strings. The other 28 instances are either floats or integers."
      ]
    },
    {
      "cell_type": "code",
      "metadata": {
        "id": "77HmYLRGTHSZ"
      },
      "source": [
        "qb = df[df['Pos']=='QB']\n",
        "rb = df[df['Pos']=='RB']\n",
        "wr = df[df['Pos']=='WR']\n",
        "te = df[df['Pos']=='TE']\n",
        "oline = df[(df['Pos']=='T') | (df['Pos']=='G') | (df['Pos']=='C') | (df['Pos']=='OL')]\n",
        "dline = df[(df['Pos']=='DE') | (df['Pos']=='DT') | (df['Pos']=='NT') | (df['Pos']=='DL')]\n",
        "lb = df[(df['Pos']=='LB') | (df['Pos']=='OLB') | (df['Pos']=='ILB')]\n",
        "db = df[(df['Pos']=='DB') | (df['Pos']=='CB') | (df['Pos']=='S')]\n",
        "\n",
        "throwing = qb\n",
        "running = rb\n",
        "catching = df[(df['Pos']=='WR') | (df['Pos']=='TE')]\n",
        "offense = df[(df['Pos']=='QB') | (df['Pos']=='RB') | (df['Pos']=='WR') | (df['Pos']=='TE') | (df['Pos']=='T') | (df['Pos']=='G') | (df['Pos']=='C') | (df['Pos']=='OL')]\n",
        "defense = df[(df['Pos']=='DE') | (df['Pos']=='DT') | (df['Pos']=='NT') | (df['Pos']=='DL') | (df['Pos']=='LB') | (df['Pos']=='OLB') | (df['Pos']=='ILB') | (df['Pos']=='DB') | (df['Pos']=='CB') | (df['Pos']=='S')]"
      ],
      "execution_count": null,
      "outputs": []
    },
    {
      "cell_type": "markdown",
      "metadata": {
        "id": "PTVCmL2GR_of"
      },
      "source": [
        "Above, I was able to make data frames for each of the eight position groups in the NFL. I did this so that I can take a look at the relationships of the features with the individual positions as some teachers may affect one position a lot more than another."
      ]
    },
    {
      "cell_type": "code",
      "metadata": {
        "id": "EF6uP7a-TMXq"
      },
      "source": [
        "round1 = df[df['Rnd'] == 1]\n",
        "round2 = df[df['Rnd'] == 2]\n",
        "round3 = df[df['Rnd'] == 3]\n",
        "round4 = df[df['Rnd'] == 4]\n",
        "round5 = df[df['Rnd'] == 5]\n",
        "round6 = df[df['Rnd'] == 6]\n",
        "round7 = df[df['Rnd'] == 7]\n",
        "\n",
        "day1 = round1\n",
        "day2 = pd.concat([round2,round3],ignore_index=True)\n",
        "day3 = pd.concat([round4,round5],ignore_index=True)\n",
        "day4 = pd.concat([round6,round7],ignore_index=True)"
      ],
      "execution_count": null,
      "outputs": []
    },
    {
      "cell_type": "markdown",
      "metadata": {
        "id": "qWOQQERszGQu"
      },
      "source": [
        "**Experiments:**"
      ]
    },
    {
      "cell_type": "markdown",
      "metadata": {
        "id": "dv56cCj5SEgg"
      },
      "source": [
        "I also was able to make data frams for each of the 7 rounds. The reason why I did this was so that I would be able to plot the relationships to get an idea of how much they impact the draft picks. For example, I could look at any of the combine features, 40yd, Vertical, Bench, Broad Jump, or Shuttle, to see if they have a relationship with where in the draft they are selected. This can also be done with any of the other features for the NFL stats."
      ]
    },
    {
      "cell_type": "code",
      "metadata": {
        "id": "6iQdvuU3S8NH",
        "colab": {
          "base_uri": "https://localhost:8080/",
          "height": 296
        },
        "outputId": "13680097-a939-4145-ef7a-99f3afb90fcf"
      },
      "source": [
        "import matplotlib.pyplot as plt\n",
        "import seaborn as sns\n",
        "\n",
        "plt.figure(figsize=(8,4))\n",
        "sns.barplot(x='Pick', y='Pos', data=df)"
      ],
      "execution_count": null,
      "outputs": [
        {
          "output_type": "execute_result",
          "data": {
            "text/plain": [
              "<matplotlib.axes._subplots.AxesSubplot at 0x7ff3bfddaa90>"
            ]
          },
          "metadata": {
            "tags": []
          },
          "execution_count": 14
        },
        {
          "output_type": "display_data",
          "data": {
            "image/png": "[encoded data removed]",
            "text/plain": [
              "<Figure size 576x288 with 1 Axes>"
            ]
          },
          "metadata": {
            "tags": [],
            "needs_background": "light"
          }
        }
      ]
    },
    {
      "cell_type": "markdown",
      "metadata": {
        "id": "HXdPPhsxSNMW"
      },
      "source": [
        "This is a bar graph that shows the relationships between draft picks and position. They are all very similar, and this is expected as all of the players can be selected at any point during the draft. It is important to note, however, it seems like QBs and Tackles have an average draft pick earlier in the draft than OL or DL. This makes sense as the QB is one of the most important positions in the NFL and and the Tackles job is to protect the Quarterback, another important position. The better the job the tackle does, the longer the quarterback is able to throw the ball, meaning they will have a better performance as every second matters when the ball is snapped."
      ]
    },
    {
      "cell_type": "code",
      "metadata": {
        "id": "EyuKcvDETqYS",
        "colab": {
          "base_uri": "https://localhost:8080/",
          "height": 1000
        },
        "outputId": "1bac026f-311e-4104-8378-3a429975af2e"
      },
      "source": [
        "plt.figure(figsize=(10,5))\n",
        "sns.regplot(x='Pick', y='Pass_Yds', data=throwing)\n",
        "plt.xlim(0, 270)\n",
        "plt.ylim(0, 85000)\n",
        "plt.title('Pick vs. Pass_Yds (QBs)')\n",
        "\n",
        "plt.figure(figsize=(10,5))\n",
        "sns.regplot(x='Pick', y='Pass_TD', data=throwing)\n",
        "plt.xlim(0, 270)\n",
        "plt.ylim(0, 600)\n",
        "plt.title('Pick vs. Pass_Tds (QBs)')\n",
        "\n",
        "plt.figure(figsize=(10,5))\n",
        "sns.regplot(x='Pick', y='Rush_Yds', data=running)\n",
        "plt.xlim(0, 270)\n",
        "plt.ylim(0, 20000)\n",
        "plt.title('Pick vs. Rush_Yds (RBs)')\n",
        "\n",
        "plt.figure(figsize=(10,5))\n",
        "sns.regplot(x='Pick', y='Rush_TD', data=running)\n",
        "plt.xlim(0, 270)\n",
        "plt.ylim(0, 150)\n",
        "plt.title('Pick vs. Rush_TD (RBs)')\n",
        "\n",
        "plt.figure(figsize=(10,5))\n",
        "sns.regplot(x='Pick', y='Rec', data=catching)\n",
        "plt.xlim(0, 270)\n",
        "plt.ylim(0, 1500)\n",
        "plt.title('Pick vs. Rec (WRs and TEs)')\n",
        "\n",
        "plt.figure(figsize=(10,5))\n",
        "sns.regplot(x='Pick', y='Rec_Yds', data=catching)\n",
        "plt.xlim(0, 270)\n",
        "plt.ylim(0, 17500)\n",
        "plt.title('Pick vs. Rec_Yds (WRs and TEs)')\n",
        "\n",
        "plt.figure(figsize=(10,5))\n",
        "sns.regplot(x='Pick', y='Rec_TD', data=catching)\n",
        "plt.xlim(0, 270)\n",
        "plt.ylim(0, 125)\n",
        "plt.title('Pick vs. Rec_TD (WRs and TEs)')\n",
        "\n",
        "plt.figure(figsize=(10,5))\n",
        "sns.regplot(x='Pick', y='Def_Int', data=db)\n",
        "plt.xlim(0, 270)\n",
        "plt.ylim(0, 70)\n",
        "plt.title('Pick vs. Def_Int (DBs)')\n",
        "\n",
        "plt.figure(figsize=(10,5))\n",
        "sns.regplot(x='Pick', y='Def_Sk', data=dline)\n",
        "plt.xlim(0, 270)\n",
        "plt.ylim(0, 100)\n",
        "plt.title('Pick vs. Def_Sk (DLine)')"
      ],
      "execution_count": null,
      "outputs": [
        {
          "output_type": "execute_result",
          "data": {
            "text/plain": [
              "Text(0.5, 1.0, 'Pick vs. Def_Sk (DLine)')"
            ]
          },
          "metadata": {
            "tags": []
          },
          "execution_count": 15
        },
        {
          "output_type": "display_data",
          "data": {
            "image/png": "[encoded data removed]",
            "text/plain": [
              "<Figure size 720x360 with 1 Axes>"
            ]
          },
          "metadata": {
            "tags": [],
            "needs_background": "light"
          }
        },
        {
          "output_type": "display_data",
          "data": {
            "image/png": "[encoded data removed]",
            "text/plain": [
              "<Figure size 720x360 with 1 Axes>"
            ]
          },
          "metadata": {
            "tags": [],
            "needs_background": "light"
          }
        },
        {
          "output_type": "display_data",
          "data": {
            "image/png": "[encoded data removed]",
            "text/plain": [
              "<Figure size 720x360 with 1 Axes>"
            ]
          },
          "metadata": {
            "tags": [],
            "needs_background": "light"
          }
        },
        {
          "output_type": "display_data",
          "data": {
            "image/png": "[encoded data removed]",
            "text/plain": [
              "<Figure size 720x360 with 1 Axes>"
            ]
          },
          "metadata": {
            "tags": [],
            "needs_background": "light"
          }
        },
        {
          "output_type": "display_data",
          "data": {
            "image/png": "[encoded data removed]",
            "text/plain": [
              "<Figure size 720x360 with 1 Axes>"
            ]
          },
          "metadata": {
            "tags": [],
            "needs_background": "light"
          }
        },
        {
          "output_type": "display_data",
          "data": {
            "image/png": "[encoded data removed]",
            "text/plain": [
              "<Figure size 720x360 with 1 Axes>"
            ]
          },
          "metadata": {
            "tags": [],
            "needs_background": "light"
          }
        },
        {
          "output_type": "display_data",
          "data": {
            "image/png": "[encoded data removed]",
            "text/plain": [
              "<Figure size 720x360 with 1 Axes>"
            ]
          },
          "metadata": {
            "tags": [],
            "needs_background": "light"
          }
        },
        {
          "output_type": "display_data",
          "data": {
            "image/png": "[encoded data removed]",
            "text/plain": [
              "<Figure size 720x360 with 1 Axes>"
            ]
          },
          "metadata": {
            "tags": [],
            "needs_background": "light"
          }
        },
        {
          "output_type": "display_data",
          "data": {
            "image/png": "[encoded data removed]",
            "text/plain": [
              "<Figure size 720x360 with 1 Axes>"
            ]
          },
          "metadata": {
            "tags": [],
            "needs_background": "light"
          }
        }
      ]
    },
    {
      "cell_type": "markdown",
      "metadata": {
        "id": "rd-mx0MnSurD"
      },
      "source": [
        "I now wanted to look at the relationship between the players football stats and their draft pick. As expected, the higher the stat, meaning the more success they have had, on average, they were picked earlier in the draft. It is interesting to see that, on average, receptions have a lot more affect on their draft than actual TDs. It is very hard to compare these, as the ranges are very different. This makes sense because you can throw the ball 100 yards on one play, which is very difficult to do, and nearly impossible, however it is NOT possible to throw 100 TDs in one play. However, these results make a lot of sense as the better a player does, on average, the earlier they will be selected in the draft."
      ]
    },
    {
      "cell_type": "code",
      "metadata": {
        "id": "gnRZ7PeWTU2y",
        "colab": {
          "base_uri": "https://localhost:8080/",
          "height": 1000
        },
        "outputId": "9083a3fe-1845-4135-a78f-f8689e88e8a4"
      },
      "source": [
        "plt.figure(figsize=(10, 5))\n",
        "sns.countplot(x='Pos', data = round1)\n",
        "plt.title('Pos in 1st Round')\n",
        "\n",
        "plt.figure(figsize=(10, 5))\n",
        "sns.countplot(x='Pos', data = round2)\n",
        "plt.title('Pos in 2nd Round')\n",
        "\n",
        "plt.figure(figsize=(10, 5))\n",
        "sns.countplot(x='Pos', data = round3)\n",
        "plt.title('Pos in 3rd Round')\n",
        "\n",
        "plt.figure(figsize=(10, 5))\n",
        "sns.countplot(x='Pos', data = round4)\n",
        "plt.title('Pos in 4th Round')\n",
        "\n",
        "plt.figure(figsize=(10, 5))\n",
        "sns.countplot(x='Pos', data = round5)\n",
        "plt.title('Pos in 5th Round')\n",
        "\n",
        "plt.figure(figsize=(10, 5))\n",
        "sns.countplot(x='Pos', data = round6)\n",
        "plt.title('Pos in 6th Round')\n",
        "\n",
        "plt.figure(figsize=(10, 5))\n",
        "sns.countplot(x='Pos', data = round7)\n",
        "plt.title('Pos in 7th Round')"
      ],
      "execution_count": null,
      "outputs": [
        {
          "output_type": "execute_result",
          "data": {
            "text/plain": [
              "Text(0.5, 1.0, 'Pos in 7th Round')"
            ]
          },
          "metadata": {
            "tags": []
          },
          "execution_count": 16
        },
        {
          "output_type": "display_data",
          "data": {
            "image/png": "[encoded data removed]",
            "text/plain": [
              "<Figure size 720x360 with 1 Axes>"
            ]
          },
          "metadata": {
            "tags": [],
            "needs_background": "light"
          }
        },
        {
          "output_type": "display_data",
          "data": {
            "image/png": "[encoded data removed]",
            "text/plain": [
              "<Figure size 720x360 with 1 Axes>"
            ]
          },
          "metadata": {
            "tags": [],
            "needs_background": "light"
          }
        },
        {
          "output_type": "display_data",
          "data": {
            "image/png": "[encoded data removed]",
            "text/plain": [
              "<Figure size 720x360 with 1 Axes>"
            ]
          },
          "metadata": {
            "tags": [],
            "needs_background": "light"
          }
        },
        {
          "output_type": "display_data",
          "data": {
            "image/png": "[encoded data removed]",
            "text/plain": [
              "<Figure size 720x360 with 1 Axes>"
            ]
          },
          "metadata": {
            "tags": [],
            "needs_background": "light"
          }
        },
        {
          "output_type": "display_data",
          "data": {
            "image/png": "[encoded data removed]",
            "text/plain": [
              "<Figure size 720x360 with 1 Axes>"
            ]
          },
          "metadata": {
            "tags": [],
            "needs_background": "light"
          }
        },
        {
          "output_type": "display_data",
          "data": {
            "image/png": "[encoded data removed]",
            "text/plain": [
              "<Figure size 720x360 with 1 Axes>"
            ]
          },
          "metadata": {
            "tags": [],
            "needs_background": "light"
          }
        },
        {
          "output_type": "display_data",
          "data": {
            "image/png": "[encoded data removed]",
            "text/plain": [
              "<Figure size 720x360 with 1 Axes>"
            ]
          },
          "metadata": {
            "tags": [],
            "needs_background": "light"
          }
        }
      ]
    },
    {
      "cell_type": "markdown",
      "metadata": {
        "id": "CHTtb-PwTH9-"
      },
      "source": [
        "Next, I looked at the relationship between each round and their position to count how many of each there were. I did this because I wanted to see if more quarterbacks get selected earlier in the draft or later in the draft. From these results, it looks like there are a lot more QBs selected in the first round than the other rounds"
      ]
    },
    {
      "cell_type": "code",
      "metadata": {
        "id": "pV_bSrvjmV4O",
        "colab": {
          "base_uri": "https://localhost:8080/",
          "height": 575
        },
        "outputId": "7fbde54f-844d-4bb3-91a4-5e67f82d7c65"
      },
      "source": [
        "df"
      ],
      "execution_count": null,
      "outputs": [
        {
          "output_type": "execute_result",
          "data": {
            "text/html": [
              "<div>\n",
              "<style scoped>\n",
              "    .dataframe tbody tr th:only-of-type {\n",
              "        vertical-align: middle;\n",
              "    }\n",
              "\n",
              "    .dataframe tbody tr th {\n",
              "        vertical-align: top;\n",
              "    }\n",
              "\n",
              "    .dataframe thead th {\n",
              "        text-align: right;\n",
              "    }\n",
              "</style>\n",
              "<table border=\"1\" class=\"dataframe\">\n",
              "  <thead>\n",
              "    <tr style=\"text-align: right;\">\n",
              "      <th></th>\n",
              "      <th>Rnd</th>\n",
              "      <th>Pick</th>\n",
              "      <th>Year</th>\n",
              "      <th>Team</th>\n",
              "      <th>Player</th>\n",
              "      <th>Pos</th>\n",
              "      <th>To</th>\n",
              "      <th>PB</th>\n",
              "      <th>St</th>\n",
              "      <th>CarAV</th>\n",
              "      <th>DrAV</th>\n",
              "      <th>G</th>\n",
              "      <th>Pass_Cmp</th>\n",
              "      <th>Pass_Att</th>\n",
              "      <th>Pass_Yds</th>\n",
              "      <th>Pass_TD</th>\n",
              "      <th>Pass_Int</th>\n",
              "      <th>Rush_Att</th>\n",
              "      <th>Rush_Yds</th>\n",
              "      <th>Rush_TD</th>\n",
              "      <th>Rec</th>\n",
              "      <th>Rec_Yds</th>\n",
              "      <th>Rec_TD</th>\n",
              "      <th>Def_Solo</th>\n",
              "      <th>Def_Int</th>\n",
              "      <th>Def_Sk</th>\n",
              "      <th>School</th>\n",
              "      <th>Vertical</th>\n",
              "      <th>Bench</th>\n",
              "      <th>Broad_Jump</th>\n",
              "    </tr>\n",
              "  </thead>\n",
              "  <tbody>\n",
              "    <tr>\n",
              "      <th>0</th>\n",
              "      <td>1</td>\n",
              "      <td>18</td>\n",
              "      <td>2000</td>\n",
              "      <td>NYJ</td>\n",
              "      <td>Chad Pennington</td>\n",
              "      <td>QB</td>\n",
              "      <td>2010.000000</td>\n",
              "      <td>0</td>\n",
              "      <td>5</td>\n",
              "      <td>55.000000</td>\n",
              "      <td>41.000000</td>\n",
              "      <td>89.000000</td>\n",
              "      <td>1632.000000</td>\n",
              "      <td>2471.000000</td>\n",
              "      <td>17823.000000</td>\n",
              "      <td>102.000000</td>\n",
              "      <td>64.000000</td>\n",
              "      <td>180.00000</td>\n",
              "      <td>465.000000</td>\n",
              "      <td>7.000000</td>\n",
              "      <td>0.00000</td>\n",
              "      <td>7.00000</td>\n",
              "      <td>0.000000</td>\n",
              "      <td>103.401789</td>\n",
              "      <td>5.882777</td>\n",
              "      <td>11.021869</td>\n",
              "      <td>Marshall</td>\n",
              "      <td>33.500000</td>\n",
              "      <td>21.427407</td>\n",
              "      <td>111.000000</td>\n",
              "    </tr>\n",
              "    <tr>\n",
              "      <th>1</th>\n",
              "      <td>3</td>\n",
              "      <td>65</td>\n",
              "      <td>2000</td>\n",
              "      <td>SFO</td>\n",
              "      <td>Giovanni Carmazzi</td>\n",
              "      <td>QB</td>\n",
              "      <td>2014.236731</td>\n",
              "      <td>0</td>\n",
              "      <td>0</td>\n",
              "      <td>16.343092</td>\n",
              "      <td>12.891782</td>\n",
              "      <td>57.347319</td>\n",
              "      <td>32.131003</td>\n",
              "      <td>52.131634</td>\n",
              "      <td>367.488837</td>\n",
              "      <td>2.256108</td>\n",
              "      <td>1.388245</td>\n",
              "      <td>41.89743</td>\n",
              "      <td>178.012848</td>\n",
              "      <td>1.284962</td>\n",
              "      <td>30.96904</td>\n",
              "      <td>359.30834</td>\n",
              "      <td>2.196925</td>\n",
              "      <td>103.401789</td>\n",
              "      <td>5.882777</td>\n",
              "      <td>11.021869</td>\n",
              "      <td>Hofstra</td>\n",
              "      <td>36.500000</td>\n",
              "      <td>21.427407</td>\n",
              "      <td>119.000000</td>\n",
              "    </tr>\n",
              "    <tr>\n",
              "      <th>2</th>\n",
              "      <td>3</td>\n",
              "      <td>75</td>\n",
              "      <td>2000</td>\n",
              "      <td>BAL</td>\n",
              "      <td>Chris Redman</td>\n",
              "      <td>QB</td>\n",
              "      <td>2011.000000</td>\n",
              "      <td>0</td>\n",
              "      <td>0</td>\n",
              "      <td>9.000000</td>\n",
              "      <td>3.000000</td>\n",
              "      <td>31.000000</td>\n",
              "      <td>286.000000</td>\n",
              "      <td>500.000000</td>\n",
              "      <td>3179.000000</td>\n",
              "      <td>21.000000</td>\n",
              "      <td>14.000000</td>\n",
              "      <td>33.00000</td>\n",
              "      <td>25.000000</td>\n",
              "      <td>0.000000</td>\n",
              "      <td>0.00000</td>\n",
              "      <td>0.00000</td>\n",
              "      <td>0.000000</td>\n",
              "      <td>103.401789</td>\n",
              "      <td>5.882777</td>\n",
              "      <td>11.021869</td>\n",
              "      <td>Louisville</td>\n",
              "      <td>26.500000</td>\n",
              "      <td>21.427407</td>\n",
              "      <td>98.000000</td>\n",
              "    </tr>\n",
              "    <tr>\n",
              "      <th>3</th>\n",
              "      <td>5</td>\n",
              "      <td>163</td>\n",
              "      <td>2000</td>\n",
              "      <td>PIT</td>\n",
              "      <td>Tee Martin</td>\n",
              "      <td>QB</td>\n",
              "      <td>2003.000000</td>\n",
              "      <td>0</td>\n",
              "      <td>0</td>\n",
              "      <td>0.000000</td>\n",
              "      <td>0.000000</td>\n",
              "      <td>3.000000</td>\n",
              "      <td>6.000000</td>\n",
              "      <td>16.000000</td>\n",
              "      <td>69.000000</td>\n",
              "      <td>0.000000</td>\n",
              "      <td>1.000000</td>\n",
              "      <td>6.00000</td>\n",
              "      <td>36.000000</td>\n",
              "      <td>0.000000</td>\n",
              "      <td>0.00000</td>\n",
              "      <td>0.00000</td>\n",
              "      <td>0.000000</td>\n",
              "      <td>103.401789</td>\n",
              "      <td>5.882777</td>\n",
              "      <td>11.021869</td>\n",
              "      <td>Tennessee</td>\n",
              "      <td>34.500000</td>\n",
              "      <td>21.427407</td>\n",
              "      <td>113.000000</td>\n",
              "    </tr>\n",
              "    <tr>\n",
              "      <th>4</th>\n",
              "      <td>6</td>\n",
              "      <td>168</td>\n",
              "      <td>2000</td>\n",
              "      <td>NOR</td>\n",
              "      <td>Marc Bulger</td>\n",
              "      <td>QB</td>\n",
              "      <td>2009.000000</td>\n",
              "      <td>2</td>\n",
              "      <td>8</td>\n",
              "      <td>57.000000</td>\n",
              "      <td>12.891782</td>\n",
              "      <td>96.000000</td>\n",
              "      <td>1969.000000</td>\n",
              "      <td>3171.000000</td>\n",
              "      <td>22814.000000</td>\n",
              "      <td>122.000000</td>\n",
              "      <td>93.000000</td>\n",
              "      <td>118.00000</td>\n",
              "      <td>300.000000</td>\n",
              "      <td>8.000000</td>\n",
              "      <td>4.00000</td>\n",
              "      <td>21.00000</td>\n",
              "      <td>0.000000</td>\n",
              "      <td>103.401789</td>\n",
              "      <td>5.882777</td>\n",
              "      <td>11.021869</td>\n",
              "      <td>West Virginia</td>\n",
              "      <td>33.345298</td>\n",
              "      <td>21.427407</td>\n",
              "      <td>100.000000</td>\n",
              "    </tr>\n",
              "    <tr>\n",
              "      <th>...</th>\n",
              "      <td>...</td>\n",
              "      <td>...</td>\n",
              "      <td>...</td>\n",
              "      <td>...</td>\n",
              "      <td>...</td>\n",
              "      <td>...</td>\n",
              "      <td>...</td>\n",
              "      <td>...</td>\n",
              "      <td>...</td>\n",
              "      <td>...</td>\n",
              "      <td>...</td>\n",
              "      <td>...</td>\n",
              "      <td>...</td>\n",
              "      <td>...</td>\n",
              "      <td>...</td>\n",
              "      <td>...</td>\n",
              "      <td>...</td>\n",
              "      <td>...</td>\n",
              "      <td>...</td>\n",
              "      <td>...</td>\n",
              "      <td>...</td>\n",
              "      <td>...</td>\n",
              "      <td>...</td>\n",
              "      <td>...</td>\n",
              "      <td>...</td>\n",
              "      <td>...</td>\n",
              "      <td>...</td>\n",
              "      <td>...</td>\n",
              "      <td>...</td>\n",
              "      <td>...</td>\n",
              "    </tr>\n",
              "    <tr>\n",
              "      <th>5451</th>\n",
              "      <td>7</td>\n",
              "      <td>230</td>\n",
              "      <td>2021</td>\n",
              "      <td>LVR</td>\n",
              "      <td>Jimmy Morrissey</td>\n",
              "      <td>OL</td>\n",
              "      <td>2014.236731</td>\n",
              "      <td>0</td>\n",
              "      <td>0</td>\n",
              "      <td>16.343092</td>\n",
              "      <td>12.891782</td>\n",
              "      <td>57.347319</td>\n",
              "      <td>32.131003</td>\n",
              "      <td>52.131634</td>\n",
              "      <td>367.488837</td>\n",
              "      <td>2.256108</td>\n",
              "      <td>1.388245</td>\n",
              "      <td>41.89743</td>\n",
              "      <td>178.012848</td>\n",
              "      <td>1.284962</td>\n",
              "      <td>30.96904</td>\n",
              "      <td>359.30834</td>\n",
              "      <td>2.196925</td>\n",
              "      <td>103.401789</td>\n",
              "      <td>5.882777</td>\n",
              "      <td>11.021869</td>\n",
              "      <td>Pittsburgh</td>\n",
              "      <td>31.000000</td>\n",
              "      <td>26.000000</td>\n",
              "      <td>105.000000</td>\n",
              "    </tr>\n",
              "    <tr>\n",
              "      <th>5452</th>\n",
              "      <td>7</td>\n",
              "      <td>236</td>\n",
              "      <td>2021</td>\n",
              "      <td>BUF</td>\n",
              "      <td>Jack Anderson</td>\n",
              "      <td>OL</td>\n",
              "      <td>2014.236731</td>\n",
              "      <td>0</td>\n",
              "      <td>0</td>\n",
              "      <td>16.343092</td>\n",
              "      <td>12.891782</td>\n",
              "      <td>57.347319</td>\n",
              "      <td>32.131003</td>\n",
              "      <td>52.131634</td>\n",
              "      <td>367.488837</td>\n",
              "      <td>2.256108</td>\n",
              "      <td>1.388245</td>\n",
              "      <td>41.89743</td>\n",
              "      <td>178.012848</td>\n",
              "      <td>1.284962</td>\n",
              "      <td>30.96904</td>\n",
              "      <td>359.30834</td>\n",
              "      <td>2.196925</td>\n",
              "      <td>103.401789</td>\n",
              "      <td>5.882777</td>\n",
              "      <td>11.021869</td>\n",
              "      <td>Texas Tech</td>\n",
              "      <td>29.500000</td>\n",
              "      <td>27.000000</td>\n",
              "      <td>105.000000</td>\n",
              "    </tr>\n",
              "    <tr>\n",
              "      <th>5453</th>\n",
              "      <td>7</td>\n",
              "      <td>238</td>\n",
              "      <td>2021</td>\n",
              "      <td>DAL</td>\n",
              "      <td>Matt Farniok</td>\n",
              "      <td>G</td>\n",
              "      <td>2014.236731</td>\n",
              "      <td>0</td>\n",
              "      <td>0</td>\n",
              "      <td>16.343092</td>\n",
              "      <td>12.891782</td>\n",
              "      <td>57.347319</td>\n",
              "      <td>32.131003</td>\n",
              "      <td>52.131634</td>\n",
              "      <td>367.488837</td>\n",
              "      <td>2.256108</td>\n",
              "      <td>1.388245</td>\n",
              "      <td>41.89743</td>\n",
              "      <td>178.012848</td>\n",
              "      <td>1.284962</td>\n",
              "      <td>30.96904</td>\n",
              "      <td>359.30834</td>\n",
              "      <td>2.196925</td>\n",
              "      <td>103.401789</td>\n",
              "      <td>5.882777</td>\n",
              "      <td>11.021869</td>\n",
              "      <td>Nebraska</td>\n",
              "      <td>33.000000</td>\n",
              "      <td>28.000000</td>\n",
              "      <td>105.000000</td>\n",
              "    </tr>\n",
              "    <tr>\n",
              "      <th>5454</th>\n",
              "      <td>7</td>\n",
              "      <td>247</td>\n",
              "      <td>2021</td>\n",
              "      <td>ARI</td>\n",
              "      <td>Michal Menet</td>\n",
              "      <td>OL</td>\n",
              "      <td>2014.236731</td>\n",
              "      <td>0</td>\n",
              "      <td>0</td>\n",
              "      <td>16.343092</td>\n",
              "      <td>12.891782</td>\n",
              "      <td>57.347319</td>\n",
              "      <td>32.131003</td>\n",
              "      <td>52.131634</td>\n",
              "      <td>367.488837</td>\n",
              "      <td>2.256108</td>\n",
              "      <td>1.388245</td>\n",
              "      <td>41.89743</td>\n",
              "      <td>178.012848</td>\n",
              "      <td>1.284962</td>\n",
              "      <td>30.96904</td>\n",
              "      <td>359.30834</td>\n",
              "      <td>2.196925</td>\n",
              "      <td>103.401789</td>\n",
              "      <td>5.882777</td>\n",
              "      <td>11.021869</td>\n",
              "      <td>Penn St.</td>\n",
              "      <td>33.345298</td>\n",
              "      <td>21.427407</td>\n",
              "      <td>115.346543</td>\n",
              "    </tr>\n",
              "    <tr>\n",
              "      <th>5455</th>\n",
              "      <td>7</td>\n",
              "      <td>248</td>\n",
              "      <td>2021</td>\n",
              "      <td>IND</td>\n",
              "      <td>Will Fries</td>\n",
              "      <td>OL</td>\n",
              "      <td>2014.236731</td>\n",
              "      <td>0</td>\n",
              "      <td>0</td>\n",
              "      <td>16.343092</td>\n",
              "      <td>12.891782</td>\n",
              "      <td>57.347319</td>\n",
              "      <td>32.131003</td>\n",
              "      <td>52.131634</td>\n",
              "      <td>367.488837</td>\n",
              "      <td>2.256108</td>\n",
              "      <td>1.388245</td>\n",
              "      <td>41.89743</td>\n",
              "      <td>178.012848</td>\n",
              "      <td>1.284962</td>\n",
              "      <td>30.96904</td>\n",
              "      <td>359.30834</td>\n",
              "      <td>2.196925</td>\n",
              "      <td>103.401789</td>\n",
              "      <td>5.882777</td>\n",
              "      <td>11.021869</td>\n",
              "      <td>Penn St.</td>\n",
              "      <td>31.000000</td>\n",
              "      <td>24.000000</td>\n",
              "      <td>115.000000</td>\n",
              "    </tr>\n",
              "  </tbody>\n",
              "</table>\n",
              "<p>5456 rows × 30 columns</p>\n",
              "</div>"
            ],
            "text/plain": [
              "      Rnd  Pick  Year Team  ...         School   Vertical      Bench  Broad_Jump\n",
              "0       1    18  2000  NYJ  ...       Marshall  33.500000  21.427407  111.000000\n",
              "1       3    65  2000  SFO  ...        Hofstra  36.500000  21.427407  119.000000\n",
              "2       3    75  2000  BAL  ...     Louisville  26.500000  21.427407   98.000000\n",
              "3       5   163  2000  PIT  ...      Tennessee  34.500000  21.427407  113.000000\n",
              "4       6   168  2000  NOR  ...  West Virginia  33.345298  21.427407  100.000000\n",
              "...   ...   ...   ...  ...  ...            ...        ...        ...         ...\n",
              "5451    7   230  2021  LVR  ...     Pittsburgh  31.000000  26.000000  105.000000\n",
              "5452    7   236  2021  BUF  ...     Texas Tech  29.500000  27.000000  105.000000\n",
              "5453    7   238  2021  DAL  ...       Nebraska  33.000000  28.000000  105.000000\n",
              "5454    7   247  2021  ARI  ...       Penn St.  33.345298  21.427407  115.346543\n",
              "5455    7   248  2021  IND  ...       Penn St.  31.000000  24.000000  115.000000\n",
              "\n",
              "[5456 rows x 30 columns]"
            ]
          },
          "metadata": {
            "tags": []
          },
          "execution_count": 17
        }
      ]
    },
    {
      "cell_type": "code",
      "metadata": {
        "id": "Oh-YprO2m4Sl",
        "colab": {
          "base_uri": "https://localhost:8080/"
        },
        "outputId": "d2239848-fee1-423d-d3e1-a0a420bf2250"
      },
      "source": [
        "new_row,new_col = df.shape\n",
        "print(\"\")\n",
        "print('\\033[1m'+'This is the Cleaned NFL Draft Dataset.','\\033[0m')\n",
        "print('\\033[1m'+'While looking at the NFL Draft Dataset below:','\\033[0m')\n",
        "print('\\033[1m'+'We can see that this dataset now has', new_row, 'instances, and', new_col, 'features.\\n\\n','\\033[0m')\n"
      ],
      "execution_count": null,
      "outputs": [
        {
          "output_type": "stream",
          "text": [
            "\n",
            "\u001b[1mThis is the Cleaned NFL Draft Dataset. \u001b[0m\n",
            "\u001b[1mWhile looking at the NFL Draft Dataset below: \u001b[0m\n",
            "\u001b[1mWe can see that this dataset now has 5456 instances, and 30 features.\n",
            "\n",
            " \u001b[0m\n"
          ],
          "name": "stdout"
        }
      ]
    },
    {
      "cell_type": "code",
      "metadata": {
        "id": "52XP74toQ0aO",
        "colab": {
          "base_uri": "https://localhost:8080/"
        },
        "outputId": "98244492-1eb0-47ed-9caa-c9d6ba39ec01"
      },
      "source": [
        "qb_data = pd.concat([qb[qb.columns[0:6]],qb[qb.columns[12:17]],qb[qb.columns[27:33]]],axis=1)\n",
        "qb_data.reset_index(drop=True,inplace=True)\n",
        "qb_data = qb_data\n",
        "qb_data.columns"
      ],
      "execution_count": null,
      "outputs": [
        {
          "output_type": "execute_result",
          "data": {
            "text/plain": [
              "Index(['Rnd', 'Pick', 'Year', 'Team', 'Player', 'Pos', 'Pass_Cmp', 'Pass_Att',\n",
              "       'Pass_Yds', 'Pass_TD', 'Pass_Int', 'Vertical', 'Bench', 'Broad_Jump'],\n",
              "      dtype='object')"
            ]
          },
          "metadata": {
            "tags": []
          },
          "execution_count": 19
        }
      ]
    },
    {
      "cell_type": "markdown",
      "metadata": {
        "id": "Pca9cL49ft9D"
      },
      "source": [
        "This is the data for just the quarterback class. As you can see, these features only apply to the quarterback and is needed for the prodediction. This makes sense as sacks or recieving yards would not make sense for a QB, just like throwing yards would not make sense for a cornerback or safety (defensive back positions)."
      ]
    },
    {
      "cell_type": "code",
      "metadata": {
        "id": "aoUUdVijzF2W",
        "colab": {
          "base_uri": "https://localhost:8080/"
        },
        "outputId": "fc80c398-d16b-41c0-8212-64ce2f159b90"
      },
      "source": [
        "qb_data_int = pd.concat([qb_data[qb_data.columns[0:3]],qb_data[qb_data.columns[6:]]],axis=1)\n",
        "features = list(qb_data_int.columns)\n",
        "variances = list(qb_data_int.var())\n",
        "\n",
        "all_variances = []\n",
        "\n",
        "for i in range (0,len(features)):\n",
        "  i_feature = features[i]\n",
        "  i_variance = variances[i]\n",
        "  all_variances.append((i_feature,i_variance))\n",
        "\n",
        "all_variances.sort(key = lambda x: x[1])\n",
        "all_variances.reverse()\n",
        "print(\"\")\n",
        "print(\"All features with their variances in descending order:\")\n",
        "print(all_variances)\n",
        "\n",
        "print(\"Top 5 Features:\")\n",
        "for i in range(0,5):\n",
        "  print(i+1,\":\", all_variances[i][0], \"||\" , \"{:.2f}\".format(all_variances[i][1]))\n",
        "\n",
        "all_variances.reverse()\n",
        "\n",
        "print(\"\")\n",
        "print(\"Features from Worst to Best:\")\n",
        "for i in range(0,len(all_variances)):\n",
        "  print(i+1,\":\", all_variances[i][0], \"||\" , \"{:.2f}\".format(all_variances[i][1]))\n",
        "\n",
        "\n",
        "print('\\033[0m')"
      ],
      "execution_count": null,
      "outputs": [
        {
          "output_type": "stream",
          "text": [
            "\n",
            "All features with their variances in descending order:\n",
            "[('Pass_Yds', 162185045.55617696), ('Pass_Att', 2973798.9468226745), ('Pass_Cmp', 1208045.0087126056), ('Pass_TD', 7289.756101108171), ('Pick', 6627.352072146492), ('Pass_Int', 1799.1186060558082), ('Year', 40.2498141263941), ('Broad_Jump', 35.347785001834964), ('Vertical', 8.179444279045128), ('Rnd', 4.8175822662811525), ('Bench', 0.11395070754617308)]\n",
            "Top 5 Features:\n",
            "1 : Pass_Yds || 162185045.56\n",
            "2 : Pass_Att || 2973798.95\n",
            "3 : Pass_Cmp || 1208045.01\n",
            "4 : Pass_TD || 7289.76\n",
            "5 : Pick || 6627.35\n",
            "\n",
            "Features from Worst to Best:\n",
            "1 : Bench || 0.11\n",
            "2 : Rnd || 4.82\n",
            "3 : Vertical || 8.18\n",
            "4 : Broad_Jump || 35.35\n",
            "5 : Year || 40.25\n",
            "6 : Pass_Int || 1799.12\n",
            "7 : Pick || 6627.35\n",
            "8 : Pass_TD || 7289.76\n",
            "9 : Pass_Cmp || 1208045.01\n",
            "10 : Pass_Att || 2973798.95\n",
            "11 : Pass_Yds || 162185045.56\n",
            "\u001b[0m\n"
          ],
          "name": "stdout"
        }
      ]
    },
    {
      "cell_type": "markdown",
      "metadata": {
        "id": "SwwWe7suTfQs"
      },
      "source": [
        "Next, I wanted to look at the features in this dataset to see which ones were worth keeping and which ones are useful, and which ones are not. To do this, I had to find the variance of each feature and output it with its feature name. I was able to select only the QBs and the features that are applicable. While looking at the results, it is not a surprise that passing yards, passing attempts, passing completions, and passing touchdowns are the four most important features. What does surprise me, however, is that the combine results were the lowest, even from the begining. It makes me wonder why these workouts are used as a measure of success. The NFL combine is for NFL teams to look at upcoming potential players to see how well they are at doing these drills. It really makes me wonder why they are used if these drills are not as effective as it appears."
      ]
    },
    {
      "cell_type": "code",
      "metadata": {
        "id": "TzNaPyrq24_v"
      },
      "source": [
        "qb_data = qb_data.drop(columns=\"Bench\")\n"
      ],
      "execution_count": null,
      "outputs": []
    },
    {
      "cell_type": "code",
      "metadata": {
        "id": "YR5D5rdNh-hw",
        "colab": {
          "base_uri": "https://localhost:8080/",
          "height": 204
        },
        "outputId": "ea771330-6dbf-4125-d548-5df789270ab8"
      },
      "source": [
        "qb_data.head()"
      ],
      "execution_count": null,
      "outputs": [
        {
          "output_type": "execute_result",
          "data": {
            "text/html": [
              "<div>\n",
              "<style scoped>\n",
              "    .dataframe tbody tr th:only-of-type {\n",
              "        vertical-align: middle;\n",
              "    }\n",
              "\n",
              "    .dataframe tbody tr th {\n",
              "        vertical-align: top;\n",
              "    }\n",
              "\n",
              "    .dataframe thead th {\n",
              "        text-align: right;\n",
              "    }\n",
              "</style>\n",
              "<table border=\"1\" class=\"dataframe\">\n",
              "  <thead>\n",
              "    <tr style=\"text-align: right;\">\n",
              "      <th></th>\n",
              "      <th>Rnd</th>\n",
              "      <th>Pick</th>\n",
              "      <th>Year</th>\n",
              "      <th>Team</th>\n",
              "      <th>Player</th>\n",
              "      <th>Pos</th>\n",
              "      <th>Pass_Cmp</th>\n",
              "      <th>Pass_Att</th>\n",
              "      <th>Pass_Yds</th>\n",
              "      <th>Pass_TD</th>\n",
              "      <th>Pass_Int</th>\n",
              "      <th>Vertical</th>\n",
              "      <th>Broad_Jump</th>\n",
              "    </tr>\n",
              "  </thead>\n",
              "  <tbody>\n",
              "    <tr>\n",
              "      <th>0</th>\n",
              "      <td>1</td>\n",
              "      <td>18</td>\n",
              "      <td>2000</td>\n",
              "      <td>NYJ</td>\n",
              "      <td>Chad Pennington</td>\n",
              "      <td>QB</td>\n",
              "      <td>1632.000000</td>\n",
              "      <td>2471.000000</td>\n",
              "      <td>17823.000000</td>\n",
              "      <td>102.000000</td>\n",
              "      <td>64.000000</td>\n",
              "      <td>33.500000</td>\n",
              "      <td>111.0</td>\n",
              "    </tr>\n",
              "    <tr>\n",
              "      <th>1</th>\n",
              "      <td>3</td>\n",
              "      <td>65</td>\n",
              "      <td>2000</td>\n",
              "      <td>SFO</td>\n",
              "      <td>Giovanni Carmazzi</td>\n",
              "      <td>QB</td>\n",
              "      <td>32.131003</td>\n",
              "      <td>52.131634</td>\n",
              "      <td>367.488837</td>\n",
              "      <td>2.256108</td>\n",
              "      <td>1.388245</td>\n",
              "      <td>36.500000</td>\n",
              "      <td>119.0</td>\n",
              "    </tr>\n",
              "    <tr>\n",
              "      <th>2</th>\n",
              "      <td>3</td>\n",
              "      <td>75</td>\n",
              "      <td>2000</td>\n",
              "      <td>BAL</td>\n",
              "      <td>Chris Redman</td>\n",
              "      <td>QB</td>\n",
              "      <td>286.000000</td>\n",
              "      <td>500.000000</td>\n",
              "      <td>3179.000000</td>\n",
              "      <td>21.000000</td>\n",
              "      <td>14.000000</td>\n",
              "      <td>26.500000</td>\n",
              "      <td>98.0</td>\n",
              "    </tr>\n",
              "    <tr>\n",
              "      <th>3</th>\n",
              "      <td>5</td>\n",
              "      <td>163</td>\n",
              "      <td>2000</td>\n",
              "      <td>PIT</td>\n",
              "      <td>Tee Martin</td>\n",
              "      <td>QB</td>\n",
              "      <td>6.000000</td>\n",
              "      <td>16.000000</td>\n",
              "      <td>69.000000</td>\n",
              "      <td>0.000000</td>\n",
              "      <td>1.000000</td>\n",
              "      <td>34.500000</td>\n",
              "      <td>113.0</td>\n",
              "    </tr>\n",
              "    <tr>\n",
              "      <th>4</th>\n",
              "      <td>6</td>\n",
              "      <td>168</td>\n",
              "      <td>2000</td>\n",
              "      <td>NOR</td>\n",
              "      <td>Marc Bulger</td>\n",
              "      <td>QB</td>\n",
              "      <td>1969.000000</td>\n",
              "      <td>3171.000000</td>\n",
              "      <td>22814.000000</td>\n",
              "      <td>122.000000</td>\n",
              "      <td>93.000000</td>\n",
              "      <td>33.345298</td>\n",
              "      <td>100.0</td>\n",
              "    </tr>\n",
              "  </tbody>\n",
              "</table>\n",
              "</div>"
            ],
            "text/plain": [
              "   Rnd  Pick  Year Team  ...     Pass_TD   Pass_Int   Vertical  Broad_Jump\n",
              "0    1    18  2000  NYJ  ...  102.000000  64.000000  33.500000       111.0\n",
              "1    3    65  2000  SFO  ...    2.256108   1.388245  36.500000       119.0\n",
              "2    3    75  2000  BAL  ...   21.000000  14.000000  26.500000        98.0\n",
              "3    5   163  2000  PIT  ...    0.000000   1.000000  34.500000       113.0\n",
              "4    6   168  2000  NOR  ...  122.000000  93.000000  33.345298       100.0\n",
              "\n",
              "[5 rows x 13 columns]"
            ]
          },
          "metadata": {
            "tags": []
          },
          "execution_count": 22
        }
      ]
    },
    {
      "cell_type": "code",
      "metadata": {
        "id": "yOSCvjmvhvr_",
        "colab": {
          "base_uri": "https://localhost:8080/"
        },
        "outputId": "b2f366f7-d41a-454e-990b-66dd850d6913"
      },
      "source": [
        "qb_row,qb_col = qb_data.shape\n",
        "print(\"\")\n",
        "print('\\033[1m'+'This is the NFL Draft Dataset for just Quarterbacks.','\\033[0m')\n",
        "print('\\033[1m'+'While looking at the QB NFL Draft Dataset below:','\\033[0m')\n",
        "print('\\033[1m'+'We can see that this dataset now has', qb_row, 'instances, and', qb_col, 'features.\\n\\n','\\033[0m')"
      ],
      "execution_count": null,
      "outputs": [
        {
          "output_type": "stream",
          "text": [
            "\n",
            "\u001b[1mThis is the NFL Draft Dataset for just Quarterbacks. \u001b[0m\n",
            "\u001b[1mWhile looking at the QB NFL Draft Dataset below: \u001b[0m\n",
            "\u001b[1mWe can see that this dataset now has 270 instances, and 13 features.\n",
            "\n",
            " \u001b[0m\n"
          ],
          "name": "stdout"
        }
      ]
    },
    {
      "cell_type": "markdown",
      "metadata": {
        "id": "oyX42_PIUI2V"
      },
      "source": [
        "After removing these features, I was able to make a data frame for just quarterbacks with applicable data from 2000 to 2021. The 2021 NFL quarterback class has not played in the NFL yet, so they do not have stats for most of their instance, however, the NFL combine results were available."
      ]
    },
    {
      "cell_type": "code",
      "metadata": {
        "id": "F-4DkUweZUzd",
        "colab": {
          "base_uri": "https://localhost:8080/"
        },
        "outputId": "eef9b2ca-e02f-487b-aa7f-d2b5026c06f8"
      },
      "source": [
        "qb_data_pre_2021 = qb_data[qb_data['Year']<2021]\n",
        "qb_data_2021 = qb_data[qb_data['Year']==2021]\n",
        "qb_data_2021_names = qb_data_2021['Player']\n",
        "\n",
        "qb_data_pre_2021_int = pd.concat([qb_data_pre_2021[qb_data_pre_2021.columns[0:3]],qb_data_pre_2021[qb_data_pre_2021.columns[6:]]],axis=1)\n",
        "qb_data_2021_int = pd.concat([qb_data_2021[qb_data_2021.columns[0:3]],qb_data_2021[qb_data_2021.columns[6:]]],axis=1)\n",
        "\n",
        "X_pre_2021 = qb_data_pre_2021_int[qb_data_pre_2021_int.columns[3:]]\n",
        "y_pre_2021 = qb_data_pre_2021_int['Pick']\n",
        "\n",
        "X_2021 = qb_data_2021_int[qb_data_2021_int.columns[3:]]\n",
        "y_2021 = qb_data_2021_int['Pick']\n",
        "\n",
        "old_qb_row,old_qb_col = qb_data_pre_2021.shape\n",
        "print(\"\")\n",
        "print('\\033[1m'+'This is the NFL Draft Dataset for just Quarterbacks drafted prior to 2021.','\\033[0m')\n",
        "print('\\033[1m'+'While looking at the QB NFL Draft Dataset below:','\\033[0m')\n",
        "print('\\033[1m'+'We can see that this dataset has', old_qb_row, 'instances, and', old_qb_col, 'features.\\n\\n','\\033[0m')\n",
        "\n",
        "new_qb_row,new_qb_col = qb_data_2021.shape\n",
        "print(\"\")\n",
        "print('\\033[1m'+'This is the NFL Draft Dataset for just Quarterbacks drafted after 2021.','\\033[0m')\n",
        "print('\\033[1m'+'While looking at the QB NFL Draft 2021 Dataset below:','\\033[0m')\n",
        "print('\\033[1m'+'We can see that this dataset has', new_qb_row, 'instances, and', new_qb_col, 'features.\\n\\n','\\033[0m')\n"
      ],
      "execution_count": null,
      "outputs": [
        {
          "output_type": "stream",
          "text": [
            "\n",
            "\u001b[1mThis is the NFL Draft Dataset for just Quarterbacks drafted prior to 2021. \u001b[0m\n",
            "\u001b[1mWhile looking at the QB NFL Draft Dataset below: \u001b[0m\n",
            "\u001b[1mWe can see that this dataset has 260 instances, and 13 features.\n",
            "\n",
            " \u001b[0m\n",
            "\n",
            "\u001b[1mThis is the NFL Draft Dataset for just Quarterbacks drafted after 2021. \u001b[0m\n",
            "\u001b[1mWhile looking at the QB NFL Draft 2021 Dataset below: \u001b[0m\n",
            "\u001b[1mWe can see that this dataset has 10 instances, and 13 features.\n",
            "\n",
            " \u001b[0m\n"
          ],
          "name": "stdout"
        }
      ]
    },
    {
      "cell_type": "markdown",
      "metadata": {
        "id": "Iv1vUx4SUcPf"
      },
      "source": [
        "I then split up the quarterback class from before 2021 and had another data frame for the 2021 NFL quarterback class. I then was able to split up the data between X and y for the testing and training sets."
      ]
    },
    {
      "cell_type": "code",
      "metadata": {
        "id": "imKfuCccjwa2"
      },
      "source": [
        "X_train = X_pre_2021.copy()\n",
        "y_train = y_pre_2021.copy()\n",
        "X_test = X_2021.copy()\n",
        "y_test = y_2021.copy()"
      ],
      "execution_count": null,
      "outputs": []
    },
    {
      "cell_type": "markdown",
      "metadata": {
        "id": "4JAxbxfLUt6N"
      },
      "source": [
        "Next, and I made a list that consisted of the actual quarterback pics of the 2021 NFL draft to compare my results to. I also made a list that consisted of those player names. With the use of GaussianNB, LogisticRegression, and KNeighborsRegressor, I was able to predict where the 10 NFL rookie quarterbacks would be selected in the draft."
      ]
    },
    {
      "cell_type": "code",
      "metadata": {
        "id": "GpCjgB6_mzUw",
        "colab": {
          "base_uri": "https://localhost:8080/"
        },
        "outputId": "1e156db9-6a22-4c69-8124-8097459c0dcf"
      },
      "source": [
        "from sklearn.naive_bayes import GaussianNB\n",
        "from sklearn.linear_model import LogisticRegression\n",
        "from sklearn.neighbors import KNeighborsRegressor\n",
        "from sklearn.metrics import accuracy_score\n",
        "\n",
        "actual_qb_picks = y_2021.tolist()\n",
        "\n",
        "player_2021 = qb_data_2021_names.tolist()\n",
        "\n",
        "GNB = GaussianNB()\n",
        "LGR = LogisticRegression()\n",
        "KNN = KNeighborsRegressor()\n",
        "\n",
        "X_train = np.array(X_train)\n",
        "y_train = np.array(y_train)\n",
        "X_test = np.array(X_test)\n",
        "y_test = np.array(y_test)\n",
        "\n",
        "GNB.fit(X_2021,y_2021)\n",
        "GNB_predict = GNB.predict(X_2021)\n",
        "GNB_predict_list = list(GNB_predict)\n",
        "print(\"\")\n",
        "for i in range (0,len(actual_qb_picks)):\n",
        "  print(\"Player:\", player_2021[i])\n",
        "  print(\"Predicted\",GNB_predict_list[i], \"||\", \"Actual Pick\", actual_qb_picks[i])\n",
        "GNB_accuracy = accuracy_score(GNB_predict,actual_qb_picks)*100\n",
        "print(\"GNB Accuracy:\", \"{:.2f}\".format(GNB_accuracy),end=\"%\")\n",
        "print(\"\")\n",
        "print(\"\")\n",
        "\n",
        "LGR.fit(X_2021,y_2021)\n",
        "LGR_predict = LGR.predict(X_2021)\n",
        "LGR_predict_list = list(LGR_predict)\n",
        "print(\"\")\n",
        "for i in range (0,len(actual_qb_picks)):\n",
        "  print(\"Player:\", player_2021[i])\n",
        "  print(\"Predicted\",LGR_predict_list[i], \"||\", \"Actual Pick\", actual_qb_picks[i])\n",
        "LGR_accuracy = accuracy_score(LGR_predict,actual_qb_picks)*100\n",
        "print(\"LGR Accuracy:\", \"{:.2f}\".format(LGR_accuracy),end=\"%\")\n",
        "print(\"\")\n",
        "print(\"\")\n",
        "\n",
        "KNN.fit(X_2021,y_2021)\n",
        "KNN_predict = KNN.predict(X_2021)\n",
        "KNN_predict_list = list(KNN_predict)\n",
        "for i in range (0,len(KNN_predict_list)):\n",
        "  KNN_predict_list[i] = round(KNN_predict_list[i])\n",
        "print(\"\")\n",
        "for i in range (0,len(actual_qb_picks)):\n",
        "  print(\"Player:\", player_2021[i])\n",
        "  print(\"Predicted\",KNN_predict_list[i], \"||\", \"Actual Pick\", actual_qb_picks[i])\n",
        "KNN_accuracy = accuracy_score(KNN_predict_list,actual_qb_picks)*100\n",
        "print(\"KNN Accuracy:\", \"{:.2f}\".format(KNN_accuracy),end=\"%\")\n",
        "print(\"\")\n",
        "print(\"\")\n"
      ],
      "execution_count": null,
      "outputs": [
        {
          "output_type": "stream",
          "text": [
            "\n",
            "Player: Trevor Lawrence\n",
            "Predicted 1 || Actual Pick 1\n",
            "Player: Zach Wilson\n",
            "Predicted 1 || Actual Pick 2\n",
            "Player: Trey Lance\n",
            "Predicted 1 || Actual Pick 3\n",
            "Player: Justin Fields\n",
            "Predicted 1 || Actual Pick 11\n",
            "Player: Mac Jones\n",
            "Predicted 15 || Actual Pick 15\n",
            "Player: Kyle Trask\n",
            "Predicted 64 || Actual Pick 64\n",
            "Player: Kellen Mond\n",
            "Predicted 1 || Actual Pick 66\n",
            "Player: Davis Mills\n",
            "Predicted 67 || Actual Pick 67\n",
            "Player: Ian Book\n",
            "Predicted 133 || Actual Pick 133\n",
            "Player: Sam Ehlinger\n",
            "Predicted 218 || Actual Pick 218\n",
            "GNB Accuracy: 60.00%\n",
            "\n",
            "\n",
            "Player: Trevor Lawrence\n",
            "Predicted 3 || Actual Pick 1\n",
            "Player: Zach Wilson\n",
            "Predicted 3 || Actual Pick 2\n",
            "Player: Trey Lance\n",
            "Predicted 3 || Actual Pick 3\n",
            "Player: Justin Fields\n",
            "Predicted 3 || Actual Pick 11\n",
            "Player: Mac Jones\n",
            "Predicted 15 || Actual Pick 15\n",
            "Player: Kyle Trask\n",
            "Predicted 64 || Actual Pick 64\n",
            "Player: Kellen Mond\n",
            "Predicted 3 || Actual Pick 66\n",
            "Player: Davis Mills\n",
            "Predicted 67 || Actual Pick 67\n",
            "Player: Ian Book\n",
            "Predicted 15 || Actual Pick 133\n",
            "Player: Sam Ehlinger\n",
            "Predicted 218 || Actual Pick 218\n",
            "LGR Accuracy: 50.00%\n",
            "\n",
            "\n",
            "Player: Trevor Lawrence\n",
            "Predicted 17 || Actual Pick 1\n",
            "Player: Zach Wilson\n",
            "Predicted 17 || Actual Pick 2\n",
            "Player: Trey Lance\n",
            "Predicted 17 || Actual Pick 3\n",
            "Player: Justin Fields\n",
            "Predicted 17 || Actual Pick 11\n",
            "Player: Mac Jones\n",
            "Predicted 43 || Actual Pick 15\n",
            "Player: Kyle Trask\n",
            "Predicted 43 || Actual Pick 64\n",
            "Player: Kellen Mond\n",
            "Predicted 17 || Actual Pick 66\n",
            "Player: Davis Mills\n",
            "Predicted 67 || Actual Pick 67\n",
            "Player: Ian Book\n",
            "Predicted 43 || Actual Pick 133\n",
            "Player: Sam Ehlinger\n",
            "Predicted 58 || Actual Pick 218\n",
            "KNN Accuracy: 10.00%\n",
            "\n"
          ],
          "name": "stdout"
        },
        {
          "output_type": "stream",
          "text": [
            "/usr/local/lib/python3.7/dist-packages/sklearn/linear_model/_logistic.py:940: ConvergenceWarning: lbfgs failed to converge (status=1):\n",
            "STOP: TOTAL NO. of ITERATIONS REACHED LIMIT.\n",
            "\n",
            "Increase the number of iterations (max_iter) or scale the data as shown in:\n",
            "    https://scikit-learn.org/stable/modules/preprocessing.html\n",
            "Please also refer to the documentation for alternative solver options:\n",
            "    https://scikit-learn.org/stable/modules/linear_model.html#logistic-regression\n",
            "  extra_warning_msg=_LOGISTIC_SOLVER_CONVERGENCE_MSG)\n"
          ],
          "name": "stderr"
        }
      ]
    },
    {
      "cell_type": "markdown",
      "metadata": {
        "id": "YGHX6KcQWwPf"
      },
      "source": [
        "**Results:** Above are the three prediction models that I used to predict where in the draft these quarterbacks would be drafted. GNB, LGR, and KNN were used to predict where each of these players should be drafted. Note, they do not take account for if another player was selected before them, such as many of the draft picks were predicted to be selected at the same draft pick. GNB had the highest accuracy at 60%, with LGR close to it at 50%, however KNN regressor was only 10% accurate. The KNN regressor predicted values that were floating point numbers, so they were rounded to the nearest integer for calculating their accuracy, which was not very accurate compared to the other ones."
      ]
    },
    {
      "cell_type": "markdown",
      "metadata": {
        "id": "bvAbr78en0tR"
      },
      "source": [
        "**Conclusion:** Overall, I was really impressed with these results. I found it really interesting to look at the features and see which ones were important and which ones were not. I really liked being able to visually see the relationships between player stats and where they are drafted in the NFL. When looking at the features of this dataset, I was actually shocked that 4 out of the 5 combine drills were in the worst 5 features as far as variance goes. If this is in fact the case, I would be interested to find out why they are used instead of a more efficient and affective drill that would allow players to show off their talent, while also allowing teams to see what they are capable of. I understand that there needs to be some standards as far as comparing these results year to year, but I would be very interested to find out if there are drills or other things that can be done that would have a better idea of their success in the NFL. \n",
        "\n",
        "If I were to have had more time to explore this dataset, I would have wanted to look at all of the other positions as well. I also would have wanted to predict not only the QB position but see how much of the 2021 draft would have been correct. Ideally I would have really liked to predict the 2022 draft as well, but the combine results are needed for this experiment, and they have not competed at the combine yet. I think there is a lot to look at with this dataset from position, to draft pick, to type of statistic and even NFL Combine results, I would really be interested in looking at how all of these compare to each other because they can be independent of themselves, but they also can be combined to make up an entire draft class."
      ]
    }
  ]
}